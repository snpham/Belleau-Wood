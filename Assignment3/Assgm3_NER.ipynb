{
 "cells": [
  {
   "cell_type": "code",
   "execution_count": 51,
   "id": "48fd5804-5238-4736-880e-9c4784df8e9a",
   "metadata": {},
   "outputs": [],
   "source": [
    "from transformers import AutoTokenizer, AutoModelForTokenClassification\n",
    "from transformers import pipeline\n",
    "import torch\n",
    "import matplotlib.pyplot as plt\n",
    "\n",
    "import pandas as pd\n",
    "import numpy as np\n",
    "from sklearn.feature_extraction import DictVectorizer\n",
    "from sklearn.feature_extraction.text import HashingVectorizer\n",
    "from sklearn.linear_model import Perceptron\n",
    "from sklearn.model_selection import train_test_split\n",
    "from sklearn.linear_model import SGDClassifier\n",
    "from sklearn.linear_model import PassiveAggressiveClassifier\n",
    "from sklearn.naive_bayes import MultinomialNB\n",
    "from sklearn.metrics import classification_report\n",
    "from pprint import pprint as pp\n",
    "\n",
    "from sklearn.metrics import accuracy_score\n",
    "from torch.utils.data import Dataset, DataLoader\n",
    "from transformers import BertTokenizerFast, BertConfig, BertForTokenClassification\n",
    "\n",
    "from torch import cuda\n",
    "import tensorflow as tf\n",
    "from keras.preprocessing.sequence import pad_sequences\n",
    "from tensorflow.keras.utils import to_categorical\n",
    "from keras.utils.vis_utils import plot_model\n",
    "from numpy.random import seed\n",
    "from itertools import chain\n",
    "from tensorflow.keras import Model,Input\n",
    "from tensorflow.keras.layers import LSTM,Embedding,Dense\n",
    "from tensorflow.keras.layers import TimeDistributed, SpatialDropout1D,Bidirectional\n",
    "plt.style.use('seaborn')"
   ]
  },
  {
   "cell_type": "code",
   "execution_count": 52,
   "id": "f285886c-3a7d-4aca-9b7b-6bf6a3157de3",
   "metadata": {},
   "outputs": [],
   "source": [
    "data = []\n",
    "# load data\n",
    "with open('S21-gene-train.txt', 'r') as f:\n",
    "    for line in f.readlines():\n",
    "        line = line.replace('\\n', '')\n",
    "        line = line.split('\\t')\n",
    "        # if line == ['']:\n",
    "        #     continue\n",
    "        data.append(line)"
   ]
  },
  {
   "cell_type": "code",
   "execution_count": 53,
   "id": "71b11d8b-39ff-4c08-b8ce-0a99361d8c5c",
   "metadata": {},
   "outputs": [
    {
     "name": "stdout",
     "output_type": "stream",
     "text": [
      "head\n",
      "   Sequence                Word   Tag\n",
      "0         1          Comparison     O\n",
      "1         2                with     O\n",
      "2         3            alkaline     B\n",
      "3         4        phosphatases     I\n",
      "4         5                 and     O\n",
      "5         6                   5     B\n",
      "6         7                   -     I\n",
      "7         8        nucleotidase     I\n",
      "8         9                   .     O\n",
      "9                          None  None\n",
      "10        1       Pharmacologic     O\n",
      "11        2             aspects     O\n",
      "12        3                  of     O\n",
      "13        4            neonatal     O\n",
      "14        5  hyperbilirubinemia     O\n",
      "15        6                   .     O\n",
      "16                         None  None\n",
      "17        1                When     O\n",
      "18        2                 CSF     O\n",
      "19        3                   [     O\n"
     ]
    }
   ],
   "source": [
    "# make a dataframe\n",
    "df = pd.DataFrame(data=data, columns=['Sequence', 'Word', 'Tag'])\n",
    "\n",
    "# debug\n",
    "print('head')\n",
    "print(df.head(20))"
   ]
  },
  {
   "cell_type": "code",
   "execution_count": 54,
   "id": "8b6e8992-7592-4200-bfa9-8df3b7f37e2f",
   "metadata": {},
   "outputs": [
    {
     "name": "stdout",
     "output_type": "stream",
     "text": [
      "new_sent_idx\n",
      "[     0     10     17 ... 399880 399916 399948]\n"
     ]
    }
   ],
   "source": [
    "# indices of new sentence rows\n",
    "new_sent_idx = np.array(df[df['Sequence'] == ''].index+1)\n",
    "new_sent_idx = np.insert(new_sent_idx, 0, 0)\n",
    "print('new_sent_idx')\n",
    "print(new_sent_idx)"
   ]
  },
  {
   "cell_type": "code",
   "execution_count": 55,
   "id": "7a484c96-1b48-432c-939c-d430e80bed79",
   "metadata": {},
   "outputs": [
    {
     "name": "stdout",
     "output_type": "stream",
     "text": [
      "df_counts\n",
      "  Tag  counts\n",
      "0   B   16637\n",
      "1   I   24435\n",
      "2   O  345129\n"
     ]
    }
   ],
   "source": [
    "# get B, I, O tag counts\n",
    "df_counts = df.groupby('Tag').size().reset_index(name='counts')\n",
    "print('df_counts')\n",
    "print(df_counts)"
   ]
  },
  {
   "cell_type": "code",
   "execution_count": 56,
   "id": "6b8eea5b-1747-43e5-9792-2802b555cba5",
   "metadata": {},
   "outputs": [
    {
     "name": "stdout",
     "output_type": "stream",
     "text": [
      "      LineStartIdx                                              Words  \\\n",
      "0                0  Comparison with alkaline phosphatases and 5 - ...   \n",
      "1               10  Pharmacologic aspects of neonatal hyperbilirub...   \n",
      "2               17  When CSF [ HCO3 -] is shown as a function of C...   \n",
      "3               63  Flurazepam thus appears to be an effective hyp...   \n",
      "4               88                             Beta blocking agents .   \n",
      "...            ...                                                ...   \n",
      "13791       399806  Because the high - density lipoprotein recepto...   \n",
      "13792       399845  IFN - stimulated gene factor - 3 and STAT1 hom...   \n",
      "13793       399880  We have therefore studied the molecular mechan...   \n",
      "13794       399916  The epitope - protected lysine ( K ) was prese...   \n",
      "13795       399948  To understand the molecular regulation of thes...   \n",
      "\n",
      "                                                    Tags  \n",
      "0                                      O,O,B,I,O,B,I,I,O  \n",
      "1                                            O,O,O,O,O,O  \n",
      "2      O,O,O,O,O,O,O,O,O,O,O,O,O,O,O,O,O,O,O,O,O,O,O,...  \n",
      "3        O,O,O,O,O,O,O,O,O,O,O,O,O,O,O,O,O,O,O,O,O,O,O,O  \n",
      "4                                                O,O,O,O  \n",
      "...                                                  ...  \n",
      "13791  O,O,B,I,I,I,I,O,B,I,I,O,O,O,O,O,O,O,O,O,O,O,O,...  \n",
      "13792  B,I,I,I,I,I,I,O,B,I,O,O,O,O,B,I,I,I,I,O,B,O,O,...  \n",
      "13793  O,O,O,O,O,O,O,O,B,I,I,O,O,B,O,B,O,O,O,O,O,O,O,...  \n",
      "13794  O,O,O,O,O,O,O,O,O,O,O,O,B,I,I,I,I,O,O,O,O,O,O,...  \n",
      "13795  O,O,O,O,O,O,O,O,O,O,O,O,O,O,O,B,I,I,I,O,B,I,I,...  \n",
      "\n",
      "[13796 rows x 3 columns]\n"
     ]
    }
   ],
   "source": [
    "firstline = True\n",
    "df_work = pd.DataFrame(columns=['LineStartIdx', 'Words', 'Tags'])\n",
    "for idx, line in enumerate(new_sent_idx):\n",
    "    if firstline:\n",
    "        strng = df.iloc[new_sent_idx[idx]:new_sent_idx[idx+1]-1, 1].to_list()\n",
    "        labels = df.iloc[new_sent_idx[idx]:new_sent_idx[idx+1]-1, 2].to_list()\n",
    "        firstline = False\n",
    "    else:\n",
    "        try:\n",
    "            strng = df.iloc[new_sent_idx[idx]:new_sent_idx[idx+1]-1, 1].to_list()\n",
    "            labels = df.iloc[new_sent_idx[idx]:new_sent_idx[idx+1]-1, 2].to_list()\n",
    "        except:\n",
    "            strng = df.iloc[new_sent_idx[idx]:-1, 1].to_list()\n",
    "            labels = df.iloc[new_sent_idx[idx]:-1, 2].to_list()\n",
    "\n",
    "    seq = ' '.join(strng)\n",
    "    labl = ','.join(labels)\n",
    "    df_work = df_work.append({'LineStartIdx': line, \n",
    "                            'Words': seq, \n",
    "                            'Tags': labl}, ignore_index=True)\n",
    "print(df_work)"
   ]
  },
  {
   "cell_type": "code",
   "execution_count": 57,
   "id": "3533ec6a-0f2b-4e26-b24a-e7de3091780a",
   "metadata": {},
   "outputs": [
    {
     "name": "stdout",
     "output_type": "stream",
     "text": [
      "[('When', 'O'), ('extracorporeal', 'O'), ('CO2', 'O'), ('removal', 'O'), ('approximated', 'O'), ('CO2', 'O'), ('production', 'O'), ('(', 'O'), ('VCO2', 'O'), ('),', 'O'), ('alveolar', 'O'), ('ventilation', 'O'), ('almost', 'O'), ('ceased', 'O'), ('.', 'O')]\n"
     ]
    }
   ],
   "source": [
    "# getting sentence word, tag sequences in list format\n",
    "sequences = []\n",
    "for row in df_work.values:\n",
    "    sen_seq = [(w, t) for w, t in zip(row[1].split(' '), row[2].split(','))]\n",
    "    sequences.append(sen_seq)\n",
    "print(sequences[5])"
   ]
  },
  {
   "cell_type": "code",
   "execution_count": 58,
   "id": "aa249ad3-482c-42f9-b649-c8fdf6befd0d",
   "metadata": {},
   "outputs": [
    {
     "name": "stdout",
     "output_type": "stream",
     "text": [
      "ENDPAD\n"
     ]
    }
   ],
   "source": [
    "df2 = df.dropna()\n",
    "\n",
    "# get list of words\n",
    "words=list(set(df2['Word'].values))\n",
    "words.append(\"ENDPAD\")\n",
    "print(words[-1])\n",
    "num_words = len(words)"
   ]
  },
  {
   "cell_type": "code",
   "execution_count": 59,
   "id": "7b2ae08f-fd1c-450e-a799-22a56f346be9",
   "metadata": {},
   "outputs": [
    {
     "name": "stdout",
     "output_type": "stream",
     "text": [
      "Total number of words 31329\n"
     ]
    }
   ],
   "source": [
    "#Total no. of words\n",
    "print(\"Total number of words\",num_words)"
   ]
  },
  {
   "cell_type": "code",
   "execution_count": 60,
   "id": "923f8165-e016-46ea-bdc7-5fba9942f434",
   "metadata": {},
   "outputs": [
    {
     "name": "stdout",
     "output_type": "stream",
     "text": [
      "3\n",
      "['B', 'O', 'I']\n",
      "List of tags: B, O, I\n",
      "Total Number of tags 3\n"
     ]
    }
   ],
   "source": [
    "#List of Tags and total no. of Tags\n",
    "tags = list(set(df2[\"Tag\"].values))\n",
    "num_tags = len(tags)\n",
    "print(num_tags)\n",
    "print(tags)\n",
    "print(\"List of tags: \" + ', '.join([tag for tag in tags]))\n",
    "print(f\"Total Number of tags {num_tags}\")"
   ]
  },
  {
   "cell_type": "code",
   "execution_count": 61,
   "id": "8b3d74d5-f377-4600-a583-d39f10cd15a9",
   "metadata": {},
   "outputs": [
    {
     "data": {
      "text/plain": [
       "Text(0.5, 0, 'Length of Sentences')"
      ]
     },
     "execution_count": 61,
     "metadata": {},
     "output_type": "execute_result"
    },
    {
     "data": {
      "image/png": "[encoded data removed]",
      "text/plain": [
       "<Figure size 1008x504 with 1 Axes>"
      ]
     },
     "metadata": {},
     "output_type": "display_data"
    }
   ],
   "source": [
    "# average words per sentence\n",
    "plt.figure(figsize=(14,7))\n",
    "plt.hist([len(s) for s in sequences],bins = 50)\n",
    "plt.xlabel(\"Length of Sentences\")\n",
    "# plt.show()"
   ]
  },
  {
   "cell_type": "code",
   "execution_count": 62,
   "id": "143fb07c-e41f-41b7-a5f1-0fa0726ab9cc",
   "metadata": {},
   "outputs": [
    {
     "data": {
      "image/png": "[encoded data removed]",
      "text/plain": [
       "<Figure size 1008x504 with 1 Axes>"
      ]
     },
     "metadata": {},
     "output_type": "display_data"
    }
   ],
   "source": [
    "# plot of B, I occurences\n",
    "plt.figure(figsize=(14, 7))\n",
    "df.Tag[df.Tag != 'O']\\\n",
    "    .value_counts()\\\n",
    "    .plot\\\n",
    "    .barh();\n",
    "# plt.show()"
   ]
  },
  {
   "cell_type": "code",
   "execution_count": 63,
   "id": "9dd77d8f-f8f0-455b-a5e1-c320fc9eca32",
   "metadata": {},
   "outputs": [
    {
     "name": "stdout",
     "output_type": "stream",
     "text": [
      "['organising', 'multivariative', 'airflow', 'preload', '201Tl']\n",
      "['B', 'O', 'I']\n",
      "{'B': 0, 'O': 1, 'I': 2}\n",
      "19800\n"
     ]
    }
   ],
   "source": [
    "print(words[:5])\n",
    "print(tags[:5])\n",
    "\n",
    "word_idx = {w : i + 1 for i ,w in enumerate(words)}\n",
    "tag_idx =  {t : i for i ,t in enumerate(tags)}\n",
    "# print(word_idx)\n",
    "print(tag_idx)\n",
    "print(word_idx['Rieske'])"
   ]
  },
  {
   "cell_type": "code",
   "execution_count": 64,
   "id": "7b9c6dba-81dd-45b1-96aa-4363ae3e2e8e",
   "metadata": {},
   "outputs": [
    {
     "name": "stdout",
     "output_type": "stream",
     "text": [
      "[('The', 'O'), ('variable', 'O'), ('HMG', 'B'), ('dosage', 'O'), ('regimen', 'O'), ('was', 'O'), ('found', 'O'), ('to', 'O'), ('offer', 'O'), ('no', 'O'), ('advantages', 'O'), ('when', 'O'), ('compared', 'O'), ('with', 'O'), ('our', 'O'), ('standard', 'O'), ('daily', 'O'), ('dosage', 'O'), ('regimen', 'O'), ('.', 'O')]\n"
     ]
    }
   ],
   "source": [
    "print(sequences[9])"
   ]
  },
  {
   "cell_type": "code",
   "execution_count": 65,
   "id": "7413e206-997d-49e0-b6f6-e6cab302d8ec",
   "metadata": {},
   "outputs": [
    {
     "name": "stdout",
     "output_type": "stream",
     "text": [
      "[('Comparison', 'O'), ('with', 'O'), ('alkaline', 'B'), ('phosphatases', 'I'), ('and', 'O'), ('5', 'B'), ('-', 'I'), ('nucleotidase', 'I'), ('.', 'O')]\n",
      "[23513   214 17905 20189 14815  1225 11988  1564  9706 31328 31328 31328\n",
      " 31328 31328 31328 31328 31328 31328 31328 31328 31328 31328 31328 31328\n",
      " 31328 31328 31328 31328 31328 31328 31328 31328 31328 31328 31328 31328\n",
      " 31328 31328 31328 31328 31328 31328 31328 31328 31328 31328 31328 31328\n",
      " 31328 31328 31328 31328 31328 31328 31328 31328 31328 31328 31328 31328\n",
      " 31328 31328 31328 31328 31328 31328 31328 31328 31328 31328 31328 31328\n",
      " 31328 31328 31328 31328 31328 31328 31328 31328 31328 31328 31328 31328\n",
      " 31328 31328 31328 31328 31328 31328 31328 31328 31328 31328 31328 31328\n",
      " 31328 31328 31328 31328]\n",
      "[1 1 0 2 1 0 2 2 1 1 1 1 1 1 1 1 1 1 1 1 1 1 1 1 1 1 1 1 1 1 1 1 1 1 1 1 1\n",
      " 1 1 1 1 1 1 1 1 1 1 1 1 1 1 1 1 1 1 1 1 1 1 1 1 1 1 1 1 1 1 1 1 1 1 1 1 1\n",
      " 1 1 1 1 1 1 1 1 1 1 1 1 1 1 1 1 1 1 1 1 1 1 1 1 1 1]\n"
     ]
    }
   ],
   "source": [
    "# Padding our sentences using max lenght of 50.\n",
    "max_len=100\n",
    "X=[[word_idx[w[0]] for w in s] for s in sequences]\n",
    "X=pad_sequences(maxlen=max_len,sequences=X,padding='post',value=num_words-1)\n",
    "y=[[tag_idx[w[1]]for w in s]for s in sequences]\n",
    "y=pad_sequences(maxlen=max_len,sequences=y,padding='post',value=tag_idx['O'])\n",
    "print(sequences[0])\n",
    "print(X[0])\n",
    "print(y[0])\n",
    "y=[to_categorical(i,num_classes=num_tags) for i in y]\n",
    "# print(y[0])"
   ]
  },
  {
   "cell_type": "code",
   "execution_count": 66,
   "id": "d99c8f8d-1736-42e6-9957-ecbd94eea728",
   "metadata": {},
   "outputs": [],
   "source": [
    "# Split the data using Train Test split.\n",
    "X_train,X_test,y_train,y_test=train_test_split(X,y,test_size=0.1,random_state=42)"
   ]
  },
  {
   "cell_type": "code",
   "execution_count": 17,
   "id": "b0a1b718-ac5b-453c-9f45-870309de5628",
   "metadata": {},
   "outputs": [
    {
     "name": "stdout",
     "output_type": "stream",
     "text": [
      "Metal device set to: Apple M1 Max\n",
      "WARNING:tensorflow:Layer lstm will not use cuDNN kernels since it doesn't meet the criteria. It will use a generic GPU kernel as fallback when running on GPU.\n",
      "WARNING:tensorflow:Layer lstm will not use cuDNN kernels since it doesn't meet the criteria. It will use a generic GPU kernel as fallback when running on GPU.\n",
      "WARNING:tensorflow:Layer lstm will not use cuDNN kernels since it doesn't meet the criteria. It will use a generic GPU kernel as fallback when running on GPU.\n",
      "Model: \"model\"\n",
      "_________________________________________________________________\n",
      "Layer (type)                 Output Shape              Param #   \n",
      "=================================================================\n",
      "input_1 (InputLayer)         [(None, 100)]             0         \n",
      "_________________________________________________________________\n",
      "embedding (Embedding)        (None, 100, 100)          3132900   \n",
      "_________________________________________________________________\n",
      "spatial_dropout1d (SpatialDr (None, 100, 100)          0         \n",
      "_________________________________________________________________\n",
      "bidirectional (Bidirectional (None, 100, 200)          160800    \n",
      "_________________________________________________________________\n",
      "time_distributed (TimeDistri (None, 100, 3)            603       \n",
      "=================================================================\n",
      "Total params: 3,294,303\n",
      "Trainable params: 3,294,303\n",
      "Non-trainable params: 0\n",
      "_________________________________________________________________\n",
      "None\n"
     ]
    },
    {
     "name": "stderr",
     "output_type": "stream",
     "text": [
      "2021-11-25 05:36:16.737455: I tensorflow/core/common_runtime/pluggable_device/pluggable_device_factory.cc:305] Could not identify NUMA node of platform GPU ID 0, defaulting to 0. Your kernel may not have been built with NUMA support.\n",
      "2021-11-25 05:36:16.737575: I tensorflow/core/common_runtime/pluggable_device/pluggable_device_factory.cc:271] Created TensorFlow device (/job:localhost/replica:0/task:0/device:GPU:0 with 0 MB memory) -> physical PluggableDevice (device: 0, name: METAL, pci bus id: <undefined>)\n"
     ]
    }
   ],
   "source": [
    "# build model\n",
    "input_word=Input(shape=(max_len,))\n",
    "model=Embedding(input_dim=len(words),output_dim=max_len,input_length=max_len)(input_word)\n",
    "model=SpatialDropout1D(0.1)(model)\n",
    "model=Bidirectional(LSTM(units=100,return_sequences=True,recurrent_dropout=0.1))(model)\n",
    "out=TimeDistributed(Dense(num_tags,activation='softmax'))(model)\n",
    "model=Model(input_word,out)\n",
    "\n",
    "model.compile(optimizer=tf.keras.optimizers.Adam(),\n",
    "              loss='categorical_crossentropy',\n",
    "              metrics=['accuracy'])\n",
    "print(model.summary())"
   ]
  },
  {
   "cell_type": "code",
   "execution_count": 18,
   "id": "63303035-9b52-4144-93ff-0c8614c7b215",
   "metadata": {},
   "outputs": [
    {
     "name": "stdout",
     "output_type": "stream",
     "text": [
      "('You must install pydot (`pip install pydot`) and install graphviz (see instructions at https://graphviz.gitlab.io/download/) ', 'for plot_model/model_to_dot to work.')\n"
     ]
    }
   ],
   "source": [
    "plot_model(model,show_shapes=True)"
   ]
  },
  {
   "cell_type": "code",
   "execution_count": null,
   "id": "c5350962-e021-4a94-9889-35e29ee3d88c",
   "metadata": {},
   "outputs": [],
   "source": [
    "import os \n",
    "os.environ['CUDA_VISIBLE_DEVICES'] = '-1'"
   ]
  },
  {
   "cell_type": "code",
   "execution_count": 19,
   "id": "bfc2e514-797d-423e-bb54-a32fc7885bc0",
   "metadata": {},
   "outputs": [
    {
     "name": "stderr",
     "output_type": "stream",
     "text": [
      "2021-11-25 05:36:16.904593: I tensorflow/compiler/mlir/mlir_graph_optimization_pass.cc:185] None of the MLIR Optimization Passes are enabled (registered 2)\n",
      "2021-11-25 05:36:16.904771: W tensorflow/core/platform/profile_utils/cpu_utils.cc:128] Failed to get CPU frequency: 0 Hz\n"
     ]
    },
    {
     "name": "stdout",
     "output_type": "stream",
     "text": [
      "Epoch 1/3\n"
     ]
    },
    {
     "name": "stderr",
     "output_type": "stream",
     "text": [
      "2021-11-25 05:36:17.659433: I tensorflow/core/grappler/optimizers/custom_graph_optimizer_registry.cc:112] Plugin optimizer for device_type GPU is enabled.\n"
     ]
    },
    {
     "name": "stdout",
     "output_type": "stream",
     "text": [
      "156/156 [==============================] - ETA: 0s - loss: 0.1448 - accuracy: 0.9651 "
     ]
    },
    {
     "name": "stderr",
     "output_type": "stream",
     "text": [
      "2021-11-25 06:48:43.447249: I tensorflow/core/grappler/optimizers/custom_graph_optimizer_registry.cc:112] Plugin optimizer for device_type GPU is enabled.\n"
     ]
    },
    {
     "name": "stdout",
     "output_type": "stream",
     "text": [
      "156/156 [==============================] - 4376s 28s/step - loss: 0.1448 - accuracy: 0.9651 - val_loss: 0.0764 - val_accuracy: 0.9747\n",
      "Epoch 2/3\n",
      "156/156 [==============================] - 4679s 30s/step - loss: 0.0601 - accuracy: 0.9781 - val_loss: 0.0517 - val_accuracy: 0.9818\n",
      "Epoch 3/3\n",
      "156/156 [==============================] - 4340s 28s/step - loss: 0.0351 - accuracy: 0.9868 - val_loss: 0.0428 - val_accuracy: 0.9851\n"
     ]
    },
    {
     "data": {
      "text/plain": [
       "<keras.callbacks.History at 0x176508100>"
      ]
     },
     "execution_count": 19,
     "metadata": {},
     "output_type": "execute_result"
    }
   ],
   "source": [
    "#Training the model with Training data\n",
    "model.fit(X_train,np.array(y_train),batch_size=64,verbose=1,epochs=5,validation_split=0.15)"
   ]
  },
  {
   "cell_type": "code",
   "execution_count": 20,
   "id": "b9335f57-9aa2-4128-b7c7-d3d6b3399665",
   "metadata": {},
   "outputs": [
    {
     "name": "stdout",
     "output_type": "stream",
     "text": [
      "44/44 [==============================] - 33s 748ms/step - loss: 0.0480 - accuracy: 0.9832\n"
     ]
    },
    {
     "data": {
      "text/plain": [
       "[0.04799914360046387, 0.9832173585891724]"
      ]
     },
     "execution_count": 20,
     "metadata": {},
     "output_type": "execute_result"
    }
   ],
   "source": [
    "model.evaluate(X_test,np.array(y_test))"
   ]
  },
  {
   "cell_type": "code",
   "execution_count": 74,
   "id": "d12e7ebe-ddca-429f-816b-5e2dc6caec71",
   "metadata": {},
   "outputs": [
    {
     "name": "stdout",
     "output_type": "stream",
     "text": [
      "Word                True                \tPred\n",
      "\n",
      "-------------------------------------------------------\n",
      "1 Upon                O                   \tO\n",
      "1 analysis            O                   \tO\n",
      "1 of                  O                   \tO\n",
      "1 various             O                   \tO\n",
      "1 deletion            O                   \tO\n",
      "1 and                 O                   \tO\n",
      "1 point               O                   \tO\n",
      "1 -                   O                   \tO\n",
      "1 mutated             O                   \tO\n",
      "1 variants            O                   \tO\n",
      "1 of                  O                   \tO\n",
      "1 the                 O                   \tO\n",
      "0 human               B                   \tB\n",
      "2 IL                  I                   \tI\n",
      "2 -                   I                   \tI\n",
      "2 6                   I                   \tI\n",
      "2 gene                I                   \tI\n",
      "2 promoter            I                   \tI\n",
      "1 coupled             O                   \tO\n",
      "1 to                  O                   \tO\n",
      "1 a                   O                   \tO\n",
      "1 reporter            O                   \tO\n",
      "1 gene                O                   \tO\n",
      "1 ,                   O                   \tO\n",
      "1 we                  O                   \tO\n",
      "1 screened            O                   \tO\n",
      "1 for                 O                   \tO\n",
      "1 possible            O                   \tO\n",
      "1 cooperating         O                   \tO\n",
      "1 transcription       O                   \tO\n",
      "1 factors             O                   \tO\n",
      "1 .                   O                   \tO\n",
      "1 reveals             O                   \tO\n",
      "1 reveals             O                   \tO\n",
      "1 reveals             O                   \tO\n",
      "1 reveals             O                   \tO\n",
      "1 reveals             O                   \tO\n",
      "1 reveals             O                   \tO\n",
      "1 reveals             O                   \tO\n",
      "1 reveals             O                   \tO\n",
      "1 reveals             O                   \tO\n",
      "1 reveals             O                   \tO\n",
      "1 reveals             O                   \tO\n",
      "1 reveals             O                   \tO\n",
      "1 reveals             O                   \tO\n",
      "1 reveals             O                   \tO\n",
      "1 reveals             O                   \tO\n",
      "1 reveals             O                   \tO\n",
      "1 reveals             O                   \tO\n",
      "1 reveals             O                   \tO\n",
      "1 reveals             O                   \tO\n",
      "1 reveals             O                   \tO\n",
      "1 reveals             O                   \tO\n",
      "1 reveals             O                   \tO\n",
      "1 reveals             O                   \tO\n",
      "1 reveals             O                   \tO\n",
      "1 reveals             O                   \tO\n",
      "1 reveals             O                   \tO\n",
      "1 reveals             O                   \tO\n",
      "1 reveals             O                   \tO\n",
      "1 reveals             O                   \tO\n",
      "1 reveals             O                   \tO\n",
      "1 reveals             O                   \tO\n",
      "1 reveals             O                   \tO\n",
      "1 reveals             O                   \tO\n",
      "1 reveals             O                   \tO\n",
      "1 reveals             O                   \tO\n",
      "1 reveals             O                   \tO\n",
      "1 reveals             O                   \tO\n",
      "1 reveals             O                   \tO\n",
      "1 reveals             O                   \tO\n",
      "1 reveals             O                   \tO\n",
      "1 reveals             O                   \tO\n",
      "1 reveals             O                   \tO\n",
      "1 reveals             O                   \tO\n",
      "1 reveals             O                   \tO\n",
      "1 reveals             O                   \tO\n",
      "1 reveals             O                   \tO\n",
      "1 reveals             O                   \tO\n",
      "1 reveals             O                   \tO\n",
      "1 reveals             O                   \tO\n",
      "1 reveals             O                   \tO\n",
      "1 reveals             O                   \tO\n",
      "1 reveals             O                   \tO\n",
      "1 reveals             O                   \tO\n",
      "1 reveals             O                   \tO\n",
      "1 reveals             O                   \tO\n",
      "1 reveals             O                   \tO\n",
      "1 reveals             O                   \tO\n",
      "1 reveals             O                   \tO\n",
      "1 reveals             O                   \tO\n",
      "1 reveals             O                   \tO\n",
      "1 reveals             O                   \tO\n",
      "1 reveals             O                   \tO\n",
      "1 reveals             O                   \tO\n",
      "1 reveals             O                   \tO\n",
      "1 reveals             O                   \tO\n",
      "1 reveals             O                   \tO\n",
      "1 reveals             O                   \tO\n",
      "1 reveals             O                   \tO\n"
     ]
    }
   ],
   "source": [
    "# Model Prediction with Test set\n",
    "rand_sent=np.random.randint(0,X_test.shape[0])\n",
    "p=model.predict(np.array([X_test[rand_sent]]))\n",
    "p=np.argmax(p,axis=-1)\n",
    "\n",
    "y_true=np.argmax(np.array(y_test),axis=-1)[rand_sent]\n",
    "\n",
    "print(\"{:20}{:20}\\t{}\\n\".format(\"Word\",\"True\",\"Pred\"))\n",
    "print(\"-\"*55)\n",
    "\n",
    "for (w,t,pred)in zip(X_test[rand_sent],y_true,p[0]):\n",
    "  print(pred, \"{:20}{:20}\\t{}\".format(words[w-1],tags[t],tags[pred]))"
   ]
  },
  {
   "cell_type": "code",
   "execution_count": 75,
   "id": "a0fb39e9-a03d-465e-98d6-b6650369255e",
   "metadata": {},
   "outputs": [],
   "source": [
    "X_test\n",
    "\n",
    "p=model.predict([X_test])\n",
    "p=np.argmax(p,axis=-1)\n"
   ]
  },
  {
   "cell_type": "code",
   "execution_count": 76,
   "id": "65bf55f5-01d5-4044-bb76-73eb7ff07eee",
   "metadata": {},
   "outputs": [
    {
     "data": {
      "text/plain": [
       "array([0, 1, 2])"
      ]
     },
     "execution_count": 76,
     "metadata": {},
     "output_type": "execute_result"
    }
   ],
   "source": [
    "np.unique(p)"
   ]
  },
  {
   "cell_type": "code",
   "execution_count": 77,
   "id": "9873fafa-3e8a-43f5-a85f-60b0052f2d7c",
   "metadata": {},
   "outputs": [],
   "source": [
    "w_prev = 0\n",
    "outs = []\n",
    "y_true=np.argmax(np.array(y_test),axis=-1)\n",
    "\n",
    "for x, y, yt in zip(X_test, p, y_true):\n",
    "    ii = 1\n",
    "    for w, t, ttrue in zip(x, y, yt):\n",
    "        if w == w_prev:\n",
    "            outs.pop()\n",
    "            outs.append('\\n')\n",
    "            break\n",
    "        else:\n",
    "            outs.append([ii, words[w-1], tags[t], tags[ttrue]])\n",
    "            ii += 1\n",
    "        w_prev = w\n",
    "\n",
    "with open('outputs_test.txt', 'w') as f:\n",
    "    for line in outs:\n",
    "        if line == '\\n':\n",
    "            f.write('\\n')\n",
    "        else:\n",
    "            f.write(f'{line[0]}\\t{line[1]}\\t{line[2]}\\n')\n",
    "\n",
    "with open('outputs_gold.txt', 'w') as f:\n",
    "    for line in outs:\n",
    "        if line == '\\n':\n",
    "            f.write('\\n')\n",
    "        else:\n",
    "            f.write(f'{line[0]}\\t{line[1]}\\t{line[3]}\\n')"
   ]
  },
  {
   "cell_type": "code",
   "execution_count": 25,
   "id": "d3754aa7-a70d-497a-977b-e16161f0fffd",
   "metadata": {},
   "outputs": [],
   "source": []
  },
  {
   "cell_type": "code",
   "execution_count": null,
   "id": "fba07a29-fe15-494d-9354-0c6ae90dad4c",
   "metadata": {},
   "outputs": [],
   "source": []
  },
  {
   "cell_type": "code",
   "execution_count": null,
   "id": "1ad6813e-657e-40ca-8c11-84c88014493e",
   "metadata": {},
   "outputs": [],
   "source": [
    "# test set"
   ]
  },
  {
   "cell_type": "code",
   "execution_count": 40,
   "id": "6f85615b-3548-4649-89e7-3bb634bca826",
   "metadata": {},
   "outputs": [],
   "source": [
    "data = []\n",
    "# load data\n",
    "with open('NER-test.txt', 'r') as f:\n",
    "    for line in f.readlines():\n",
    "        line = line.replace('\\n', '')\n",
    "        line = line.split('\\t')\n",
    "        # if line == ['']:\n",
    "        #     continue\n",
    "        data.append(line)"
   ]
  },
  {
   "cell_type": "code",
   "execution_count": 41,
   "id": "bc34c3a7-3127-4ace-bbf8-89105a5c2117",
   "metadata": {},
   "outputs": [
    {
     "data": {
      "text/html": [
       "<div>\n",
       "<style scoped>\n",
       "    .dataframe tbody tr th:only-of-type {\n",
       "        vertical-align: middle;\n",
       "    }\n",
       "\n",
       "    .dataframe tbody tr th {\n",
       "        vertical-align: top;\n",
       "    }\n",
       "\n",
       "    .dataframe thead th {\n",
       "        text-align: right;\n",
       "    }\n",
       "</style>\n",
       "<table border=\"1\" class=\"dataframe\">\n",
       "  <thead>\n",
       "    <tr style=\"text-align: right;\">\n",
       "      <th></th>\n",
       "      <th>Word</th>\n",
       "    </tr>\n",
       "  </thead>\n",
       "  <tbody>\n",
       "    <tr>\n",
       "      <th>0</th>\n",
       "      <td>BACKGROUND</td>\n",
       "    </tr>\n",
       "    <tr>\n",
       "      <th>1</th>\n",
       "      <td>:</td>\n",
       "    </tr>\n",
       "    <tr>\n",
       "      <th>2</th>\n",
       "      <td>Ischemic</td>\n",
       "    </tr>\n",
       "    <tr>\n",
       "      <th>3</th>\n",
       "      <td>heart</td>\n",
       "    </tr>\n",
       "    <tr>\n",
       "      <th>4</th>\n",
       "      <td>disease</td>\n",
       "    </tr>\n",
       "    <tr>\n",
       "      <th>...</th>\n",
       "      <td>...</td>\n",
       "    </tr>\n",
       "    <tr>\n",
       "      <th>15224</th>\n",
       "      <td>for</td>\n",
       "    </tr>\n",
       "    <tr>\n",
       "      <th>15225</th>\n",
       "      <td>diagnostic</td>\n",
       "    </tr>\n",
       "    <tr>\n",
       "      <th>15226</th>\n",
       "      <td>assessment</td>\n",
       "    </tr>\n",
       "    <tr>\n",
       "      <th>15227</th>\n",
       "      <td>.</td>\n",
       "    </tr>\n",
       "    <tr>\n",
       "      <th>15228</th>\n",
       "      <td></td>\n",
       "    </tr>\n",
       "  </tbody>\n",
       "</table>\n",
       "<p>15229 rows × 1 columns</p>\n",
       "</div>"
      ],
      "text/plain": [
       "             Word\n",
       "0      BACKGROUND\n",
       "1               :\n",
       "2        Ischemic\n",
       "3           heart\n",
       "4         disease\n",
       "...           ...\n",
       "15224         for\n",
       "15225  diagnostic\n",
       "15226  assessment\n",
       "15227           .\n",
       "15228            \n",
       "\n",
       "[15229 rows x 1 columns]"
      ]
     },
     "execution_count": 41,
     "metadata": {},
     "output_type": "execute_result"
    }
   ],
   "source": [
    "# make a dataframe\n",
    "df = pd.DataFrame(data=data, columns=['Word'])\n",
    "df"
   ]
  },
  {
   "cell_type": "code",
   "execution_count": 42,
   "id": "49c7d614-3636-4a67-ab55-6e63a27f39dc",
   "metadata": {},
   "outputs": [],
   "source": [
    "# indices of new sentence rows\n",
    "new_sent_idx = np.array(df[df['Word'] == ''].index+1)\n",
    "new_sent_idx = np.insert(new_sent_idx, 0, 0)\n",
    "# print('new_sent_idx')\n",
    "# print(new_sent_idx)"
   ]
  },
  {
   "cell_type": "code",
   "execution_count": 43,
   "id": "cae3ce2d-b045-4d16-aa5f-1bcfa1677571",
   "metadata": {},
   "outputs": [
    {
     "name": "stdout",
     "output_type": "stream",
     "text": [
      "    LineStartIdx                                              Words\n",
      "0              0  BACKGROUND : Ischemic heart disease is the pri...\n",
      "1             27  More importantly , this fusion converted a les...\n",
      "2             51  Reverse transcription - PCR analysis of mRNA f...\n",
      "3             73  Using the postural and force data as input to ...\n",
      "4             97  Sequence analysis revealed significant differe...\n",
      "..           ...                                                ...\n",
      "505        15157  RESULTS : At latest examination , mean UPDRS I...\n",
      "506        15192  Perfusion technique for perfusion - assisted d...\n",
      "507        15206                    Copyright 2001 Academic Press .\n",
      "508        15212  The amount of drained effusion was measured , ...\n",
      "509        15229                                                   \n",
      "\n",
      "[510 rows x 2 columns]\n"
     ]
    }
   ],
   "source": [
    "firstline = True\n",
    "df_work = pd.DataFrame(columns=['LineStartIdx', 'Words'])\n",
    "for idx, line in enumerate(new_sent_idx):\n",
    "    if firstline:\n",
    "        strng = df.iloc[new_sent_idx[idx]:new_sent_idx[idx+1]-1, 0].to_list()\n",
    "        firstline = False\n",
    "        # print(strng)\n",
    "    else:\n",
    "        try:\n",
    "            strng = df.iloc[new_sent_idx[idx]:new_sent_idx[idx+1]-1, 0].to_list()\n",
    "            # print(strng)\n",
    "        except IndexError:\n",
    "            strng = df.iloc[new_sent_idx[idx]:-1, 0].to_list()\n",
    "\n",
    "    seq = ' '.join(strng)\n",
    "    df_work = df_work.append({'LineStartIdx': line, \n",
    "                              'Words': seq}, ignore_index=True)\n",
    "print(df_work)"
   ]
  },
  {
   "cell_type": "code",
   "execution_count": 44,
   "id": "1330e29c-a9b5-4da3-86bf-cf485114c6c5",
   "metadata": {},
   "outputs": [
    {
     "name": "stdout",
     "output_type": "stream",
     "text": [
      "['Therefore', ',', 'we', 'suggested', 'that', 'both', 'proteins', 'might', 'belong', 'to', 'the', 'PLTP', 'family', '.']\n"
     ]
    }
   ],
   "source": [
    "# getting sentence word, tag sequences in list format\n",
    "sequences = []\n",
    "for row in df_work.values:\n",
    "    sen_seq = [(w) for w in row[1].split(' ')]\n",
    "    sequences.append(sen_seq)\n",
    "print(sequences[5])"
   ]
  },
  {
   "cell_type": "code",
   "execution_count": 45,
   "id": "4e75cb84-ca33-4bbb-a64b-1d42db1f1a2b",
   "metadata": {},
   "outputs": [
    {
     "name": "stdout",
     "output_type": "stream",
     "text": [
      "ENDPAD\n"
     ]
    }
   ],
   "source": [
    "df2 = df.dropna()\n",
    "\n",
    "# get list of words\n",
    "words=list(set(df2['Word'].values))\n",
    "words.append(\"ENDPAD\")\n",
    "print(words[-1])\n",
    "num_words = len(words)"
   ]
  },
  {
   "cell_type": "code",
   "execution_count": 46,
   "id": "14c3dec0-3acf-4f68-baf2-322def321293",
   "metadata": {},
   "outputs": [
    {
     "name": "stdout",
     "output_type": "stream",
     "text": [
      "['BACKGROUND', ':', 'Ischemic', 'heart', 'disease', 'is', 'the', 'primary', 'cause', 'of', 'morbidity', 'and', 'mortality', 'among', 'diabetics', ',', 'especially', 'those', 'who', 'became', 'ill', 'at', 'a', 'young', 'age', '.']\n",
      "[ 194 3016 1950  735 1282 3450 2197 2066 3042 3504 4026 2650 1222  762\n",
      " 1661 4191 3105 2509 3357 3176 3502 2254 1837 3175  681 4189 4278 4278\n",
      " 4278 4278 4278 4278 4278 4278 4278 4278 4278 4278 4278 4278 4278 4278\n",
      " 4278 4278 4278 4278 4278 4278 4278 4278 4278 4278 4278 4278 4278 4278\n",
      " 4278 4278 4278 4278 4278 4278 4278 4278 4278 4278 4278 4278 4278 4278\n",
      " 4278 4278 4278 4278 4278 4278 4278 4278 4278 4278 4278 4278 4278 4278\n",
      " 4278 4278 4278 4278 4278 4278 4278 4278 4278 4278 4278 4278 4278 4278\n",
      " 4278 4278]\n"
     ]
    }
   ],
   "source": [
    "word_idx = {w : i + 1 for i ,w in enumerate(words)}\n",
    "\n",
    "# Padding our sentences using max lenght of 50.\n",
    "max_len=100\n",
    "X=[[word_idx[w] for w in s] for s in sequences]\n",
    "\n",
    "X=pad_sequences(maxlen=max_len,sequences=X,padding='post',value=num_words-1)\n",
    "print(sequences[0])\n",
    "print(X[0])"
   ]
  },
  {
   "cell_type": "code",
   "execution_count": 47,
   "id": "af38cf88-8518-4742-b410-2387392c8ab5",
   "metadata": {},
   "outputs": [],
   "source": [
    "X\n",
    "\n",
    "p=model.predict([X])\n",
    "p=np.argmax(p,axis=-1)\n",
    "\n"
   ]
  },
  {
   "cell_type": "code",
   "execution_count": 48,
   "id": "188a1060-cf6e-4cb5-b235-3d9de0b25446",
   "metadata": {},
   "outputs": [
    {
     "data": {
      "text/plain": [
       "array([[2, 2, 2, ..., 2, 2, 2],\n",
       "       [2, 2, 0, ..., 2, 2, 2],\n",
       "       [0, 0, 2, ..., 2, 2, 2],\n",
       "       ...,\n",
       "       [0, 2, 2, ..., 2, 2, 2],\n",
       "       [2, 2, 0, ..., 2, 2, 2],\n",
       "       [0, 2, 2, ..., 2, 2, 2]])"
      ]
     },
     "execution_count": 48,
     "metadata": {},
     "output_type": "execute_result"
    }
   ],
   "source": [
    "p"
   ]
  },
  {
   "cell_type": "code",
   "execution_count": 49,
   "id": "2061205e-d890-43f3-a801-ec26c0b6ede7",
   "metadata": {},
   "outputs": [],
   "source": [
    "w_prev = 0\n",
    "outs = []\n",
    "for x, y in zip(X, p):\n",
    "    ii = 1\n",
    "    for w, t in zip(x, y):\n",
    "        if w == w_prev:\n",
    "            outs.pop()\n",
    "            outs.append('\\n')\n",
    "            break\n",
    "        else:\n",
    "            outs.append([ii, words[w-1], tags[t]])\n",
    "            ii += 1\n",
    "        w_prev = w\n",
    "\n",
    "\n",
    "with open('outputs.txt', 'w') as f:\n",
    "    for line in outs:\n",
    "        if line == '\\n':\n",
    "            f.write('\\n')\n",
    "        else:\n",
    "            f.write(f'{line[0]}\\t{line[1]}\\t{line[2]}\\n')"
   ]
  },
  {
   "cell_type": "code",
   "execution_count": null,
   "id": "38eacb31-ab46-4a6d-a6ec-bfd3728e8e12",
   "metadata": {},
   "outputs": [],
   "source": []
  }
 ],
 "metadata": {
  "kernelspec": {
   "display_name": "Python 3 (ipykernel)",
   "language": "python",
   "name": "python3"
  },
  "language_info": {
   "codemirror_mode": {
    "name": "ipython",
    "version": 3
   },
   "file_extension": ".py",
   "mimetype": "text/x-python",
   "name": "python",
   "nbconvert_exporter": "python",
   "pygments_lexer": "ipython3",
   "version": "3.8.12"
  }
 },
 "nbformat": 4,
 "nbformat_minor": 5
}
