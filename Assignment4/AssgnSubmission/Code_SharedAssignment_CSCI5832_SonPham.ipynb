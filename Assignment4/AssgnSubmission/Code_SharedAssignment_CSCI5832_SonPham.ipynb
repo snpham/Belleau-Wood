{
 "cells": [
  {
   "cell_type": "code",
   "execution_count": 32,
   "id": "a5fa91b9-fab3-4680-8e1a-e0f2670718a1",
   "metadata": {},
   "outputs": [
    {
     "name": "stdout",
     "output_type": "stream",
     "text": [
      "Version:  2.7.0\n",
      "Eager mode:  True\n",
      "Hub version:  0.12.0\n",
      "GPU is available\n"
     ]
    }
   ],
   "source": [
    "import random\n",
    "import os\n",
    "from urllib import request\n",
    "\n",
    "from dontpatronizeme.semeval_2022 import dont_patronize_me as dpm\n",
    "\n",
    "import numpy as np\n",
    "import pandas as pd\n",
    "\n",
    "import tensorflow as tf\n",
    "import tensorflow_hub as hub\n",
    "import tensorflow_datasets as tfds\n",
    "from tensorflow.keras.layers import LSTM, Embedding, Dense, TimeDistributed, SpatialDropout1D, Bidirectional, Dropout\n",
    "\n",
    "import matplotlib.pyplot as plt\n",
    "from sklearn.model_selection import train_test_split\n",
    "from tensorflow.keras.utils import plot_model\n",
    "from sklearn.metrics import confusion_matrix, ConfusionMatrixDisplay\n",
    "\n",
    "print(\"Version: \", tf.__version__)\n",
    "print(\"Eager mode: \", tf.executing_eagerly())\n",
    "print(\"Hub version: \", hub.__version__)\n",
    "print(\"GPU is\", \"available\" if tf.config.list_physical_devices('GPU') else \"NOT AVAILABLE\")"
   ]
  },
  {
   "cell_type": "code",
   "execution_count": 2,
   "id": "d3cf74d8-70cb-4efd-aff8-c12cda8fd009",
   "metadata": {},
   "outputs": [],
   "source": [
    "# split data"
   ]
  },
  {
   "cell_type": "code",
   "execution_count": 3,
   "id": "cfda3d13-b674-4882-aaa1-b5086753c018",
   "metadata": {},
   "outputs": [
    {
     "name": "stdout",
     "output_type": "stream",
     "text": [
      "(10469, 5)\n",
      "9620\n",
      "849\n"
     ]
    }
   ],
   "source": [
    "# - <par_id> is a unique id for each one of the paragraphs in the corpus.\n",
    "# - <art_id> is the document id in the original NOW corpus (News on Web: https://www.english-corpora.org/now/).\n",
    "# - <keyword> is the search term used to retrieve texts about a target community.\n",
    "# - <country_code> is a two-letter ISO Alpha-2 country code for the source media outlet.\n",
    "# - <text> is the paragraph containing the keyword.\n",
    "# - <label> is an integer between 0 and 4. Each paragraph has been annotated by two annotators as 0 (No PCL), 1 (borderline PCL) and 2 (contains PCL). The combined annotations have been used in the following graded scale:\n",
    "\n",
    "data = pd.read_csv('dontpatronizeme_pcl.tsv', skiprows=4, sep='\\t', header=None, index_col=0)\n",
    "data.columns = ['art_id', 'keyword', 'country_code', 'text', 'label']\n",
    "print(data.shape)\n",
    "data.head(5)\n",
    "\n",
    "print(len(data[data.label <= 2]))\n",
    "print(len(data[data.label > 2]))"
   ]
  },
  {
   "cell_type": "code",
   "execution_count": 4,
   "id": "57691086-18f4-4da7-92de-55ab0ac26a80",
   "metadata": {},
   "outputs": [
    {
     "name": "stdout",
     "output_type": "stream",
     "text": [
      "[ 4341  4136 10352 ...  8382  8383  8384]\n",
      "[ 4046  1279  8330 ... 10464 10465 10466]\n"
     ]
    }
   ],
   "source": [
    "def split_train_test(data, test_ratio):\n",
    "    shuffled_indices = np.random.permutation(len(data))\n",
    "    test_set_size = int(len(data)*test_ratio)\n",
    "    test_indices = shuffled_indices[:test_set_size]\n",
    "    train_indices = shuffled_indices[test_set_size:]\n",
    "    return train_indices, test_indices, data.iloc[train_indices], data.iloc[test_indices]\n",
    "\n",
    "def split_train_test2(data):\n",
    "    train = pd.read_csv('train_semeval_parids-labels.csv', index_col=0)\n",
    "    test =  pd.read_csv('dev_semeval_parids-labels.csv', index_col=0)\n",
    "    train_idx = train.index.values\n",
    "    print(train_idx)\n",
    "    test_idx = test.index.values\n",
    "    print(test_idx)\n",
    "    return train_idx, test_idx, data.iloc[train_idx-1], data.iloc[test_idx-1]\n",
    "\n",
    "\n",
    "# which indices to use?\n",
    "semeval_idx = True\n",
    "\n",
    "np.random.seed(42)\n",
    "if semeval_idx:\n",
    "    # using semeval's train/devs set:\n",
    "    train_indices, test_indices, train_set, test_set = split_train_test2(data)\n",
    "else:\n",
    "    # using custom randomizer\n",
    "    train_indices, test_indices, train_set, test_set = split_train_test(data, 0.2)\n",
    "\n",
    "# print(train_set.text.head(5), train_set.shape)\n",
    "# print(test_set.head(5), test_set.shape)\n",
    "\n",
    "train_path = 'pcl_train.tsv'\n",
    "test_path = 'pcl_test.tsv'\n",
    "\n",
    "with open(train_path, 'w') as f:\n",
    "    f.write('\\n'*4)\n",
    "    train_set.to_csv(f, header=False, sep ='\\t')\n",
    "\n",
    "with open(test_path, 'w') as f:\n",
    "    f.write('\\n'*4)\n",
    "    test_set.to_csv(f, header=False, sep ='\\t', index=0)\n"
   ]
  },
  {
   "cell_type": "code",
   "execution_count": 5,
   "id": "635a041e-71b0-456a-9b8f-94dfde73b8c4",
   "metadata": {},
   "outputs": [],
   "source": [
    "from dont_patronize_me import DontPatronizeMe\n",
    "# Initialize a dpm (Don't Patronize Me) object.\n",
    "# It takes two arguments as input: \n",
    "# (1) Path to the directory containing the training set files, which is the root directory of this notebook.\n",
    "# (2) Path to the test set, which will be released when the evaluation phase begins. In this example, \n",
    "# we use the dataset for Subtask 1, which the code will load without labels.\n",
    "dpm = DontPatronizeMe('.', test_path)"
   ]
  },
  {
   "cell_type": "code",
   "execution_count": 6,
   "id": "5dd278d7-41c8-4f33-b808-e844435b1be4",
   "metadata": {},
   "outputs": [
    {
     "data": {
      "text/html": [
       "<div>\n",
       "<style scoped>\n",
       "    .dataframe tbody tr th:only-of-type {\n",
       "        vertical-align: middle;\n",
       "    }\n",
       "\n",
       "    .dataframe tbody tr th {\n",
       "        vertical-align: top;\n",
       "    }\n",
       "\n",
       "    .dataframe thead th {\n",
       "        text-align: right;\n",
       "    }\n",
       "</style>\n",
       "<table border=\"1\" class=\"dataframe\">\n",
       "  <thead>\n",
       "    <tr style=\"text-align: right;\">\n",
       "      <th></th>\n",
       "      <th>par_id</th>\n",
       "      <th>art_id</th>\n",
       "      <th>keyword</th>\n",
       "      <th>country</th>\n",
       "      <th>text</th>\n",
       "      <th>label</th>\n",
       "      <th>orig_label</th>\n",
       "    </tr>\n",
       "  </thead>\n",
       "  <tbody>\n",
       "    <tr>\n",
       "      <th>0</th>\n",
       "      <td>1</td>\n",
       "      <td>@@24942188</td>\n",
       "      <td>hopeless</td>\n",
       "      <td>ph</td>\n",
       "      <td>we 're living in times of absolute insanity , ...</td>\n",
       "      <td>0</td>\n",
       "      <td>0</td>\n",
       "    </tr>\n",
       "    <tr>\n",
       "      <th>1</th>\n",
       "      <td>2</td>\n",
       "      <td>@@21968160</td>\n",
       "      <td>migrant</td>\n",
       "      <td>gh</td>\n",
       "      <td>in libya today , there are countless number of...</td>\n",
       "      <td>0</td>\n",
       "      <td>0</td>\n",
       "    </tr>\n",
       "    <tr>\n",
       "      <th>2</th>\n",
       "      <td>3</td>\n",
       "      <td>@@16584954</td>\n",
       "      <td>immigrant</td>\n",
       "      <td>ie</td>\n",
       "      <td>\"white house press secretary sean spicer said ...</td>\n",
       "      <td>0</td>\n",
       "      <td>0</td>\n",
       "    </tr>\n",
       "    <tr>\n",
       "      <th>3</th>\n",
       "      <td>4</td>\n",
       "      <td>@@7811231</td>\n",
       "      <td>disabled</td>\n",
       "      <td>nz</td>\n",
       "      <td>council customers only signs would be displaye...</td>\n",
       "      <td>0</td>\n",
       "      <td>0</td>\n",
       "    </tr>\n",
       "    <tr>\n",
       "      <th>4</th>\n",
       "      <td>5</td>\n",
       "      <td>@@1494111</td>\n",
       "      <td>refugee</td>\n",
       "      <td>ca</td>\n",
       "      <td>\"\"\" just like we received migrants fleeing el ...</td>\n",
       "      <td>0</td>\n",
       "      <td>0</td>\n",
       "    </tr>\n",
       "    <tr>\n",
       "      <th>5</th>\n",
       "      <td>6</td>\n",
       "      <td>@@9382277</td>\n",
       "      <td>in-need</td>\n",
       "      <td>in</td>\n",
       "      <td>to bring down high blood sugar levels , insuli...</td>\n",
       "      <td>0</td>\n",
       "      <td>0</td>\n",
       "    </tr>\n",
       "    <tr>\n",
       "      <th>6</th>\n",
       "      <td>7</td>\n",
       "      <td>@@7562079</td>\n",
       "      <td>refugee</td>\n",
       "      <td>za</td>\n",
       "      <td>the european union is making an historic mista...</td>\n",
       "      <td>0</td>\n",
       "      <td>0</td>\n",
       "    </tr>\n",
       "    <tr>\n",
       "      <th>7</th>\n",
       "      <td>8</td>\n",
       "      <td>@@23663488</td>\n",
       "      <td>hopeless</td>\n",
       "      <td>nz</td>\n",
       "      <td>\"\"\" they 're either hopeless for being beaten ...</td>\n",
       "      <td>0</td>\n",
       "      <td>0</td>\n",
       "    </tr>\n",
       "    <tr>\n",
       "      <th>8</th>\n",
       "      <td>9</td>\n",
       "      <td>@@3449225</td>\n",
       "      <td>homeless</td>\n",
       "      <td>ph</td>\n",
       "      <td>nueva era , ilocos norte - no family shall be ...</td>\n",
       "      <td>0</td>\n",
       "      <td>1</td>\n",
       "    </tr>\n",
       "    <tr>\n",
       "      <th>9</th>\n",
       "      <td>10</td>\n",
       "      <td>@@2485090</td>\n",
       "      <td>in-need</td>\n",
       "      <td>nz</td>\n",
       "      <td>his spokesman said the kremlin needed more inf...</td>\n",
       "      <td>0</td>\n",
       "      <td>0</td>\n",
       "    </tr>\n",
       "  </tbody>\n",
       "</table>\n",
       "</div>"
      ],
      "text/plain": [
       "  par_id      art_id    keyword country  \\\n",
       "0      1  @@24942188   hopeless      ph   \n",
       "1      2  @@21968160    migrant      gh   \n",
       "2      3  @@16584954  immigrant      ie   \n",
       "3      4   @@7811231   disabled      nz   \n",
       "4      5   @@1494111    refugee      ca   \n",
       "5      6   @@9382277    in-need      in   \n",
       "6      7   @@7562079    refugee      za   \n",
       "7      8  @@23663488   hopeless      nz   \n",
       "8      9   @@3449225   homeless      ph   \n",
       "9     10   @@2485090    in-need      nz   \n",
       "\n",
       "                                                text  label orig_label  \n",
       "0  we 're living in times of absolute insanity , ...      0          0  \n",
       "1  in libya today , there are countless number of...      0          0  \n",
       "2  \"white house press secretary sean spicer said ...      0          0  \n",
       "3  council customers only signs would be displaye...      0          0  \n",
       "4  \"\"\" just like we received migrants fleeing el ...      0          0  \n",
       "5  to bring down high blood sugar levels , insuli...      0          0  \n",
       "6  the european union is making an historic mista...      0          0  \n",
       "7  \"\"\" they 're either hopeless for being beaten ...      0          0  \n",
       "8  nueva era , ilocos norte - no family shall be ...      0          1  \n",
       "9  his spokesman said the kremlin needed more inf...      0          0  "
      ]
     },
     "execution_count": 6,
     "metadata": {},
     "output_type": "execute_result"
    }
   ],
   "source": [
    "# This method loads the subtask 1 data\n",
    "dpm.load_task1()\n",
    "# which we can then access as a dataframe\n",
    "dpm.train_task1_df.head(10)"
   ]
  },
  {
   "cell_type": "code",
   "execution_count": 7,
   "id": "1d592a6d-b88d-4ad8-8132-8c34557aa858",
   "metadata": {},
   "outputs": [],
   "source": [
    "\n",
    "train_set = dpm.train_task1_df.iloc[train_indices-1]\n",
    "test_set = dpm.train_task1_df.iloc[test_indices-1]\n",
    "\n",
    "# training set\n",
    "X_train = train_set.text.to_numpy()\n",
    "y_train = train_set.label.to_numpy()\n",
    "# print(X_train)\n",
    "# print(y_train)\n",
    "\n",
    "# test set\n",
    "X_test = test_set.text.to_numpy()\n",
    "y_test = test_set.label.to_numpy()\n",
    "# print(X_test)\n",
    "# print(y_test)"
   ]
  },
  {
   "cell_type": "code",
   "execution_count": 8,
   "id": "85d5dda7-9bb3-4809-a305-d4453fcf58d8",
   "metadata": {},
   "outputs": [],
   "source": [
    "# helper function to save predictions to an output file\n",
    "def labels2file(p, outf_path):\n",
    "\twith open(outf_path,'w') as outf:\n",
    "\t\tfor pi in p:\n",
    "\t\t\toutf.write(','.join([str(k) for k in pi])+'\\n')"
   ]
  },
  {
   "cell_type": "code",
   "execution_count": 9,
   "id": "024d4679-bab6-4f72-9293-0320dcf4f5fa",
   "metadata": {},
   "outputs": [
    {
     "name": "stdout",
     "output_type": "stream",
     "text": [
      "mkdir: ref: File exists\n",
      "mkdir: res: File exists\n"
     ]
    }
   ],
   "source": [
    "# first, we need to create the res/ and ref/ folders, which the evaluator expects\n",
    "!mkdir ref res"
   ]
  },
  {
   "cell_type": "code",
   "execution_count": 10,
   "id": "0e6abf72-cc73-4221-85ec-65bf40be7757",
   "metadata": {},
   "outputs": [],
   "source": [
    "dpm.load_test()"
   ]
  },
  {
   "cell_type": "code",
   "execution_count": 11,
   "id": "15fd06ca-9381-4fb5-b41b-c964734a9339",
   "metadata": {},
   "outputs": [],
   "source": [
    "# dpm.test_set[:5]"
   ]
  },
  {
   "cell_type": "code",
   "execution_count": 12,
   "id": "9d0f69af-66d2-4276-ae25-73e8b6a41e28",
   "metadata": {},
   "outputs": [],
   "source": [
    "# build model"
   ]
  },
  {
   "cell_type": "code",
   "execution_count": 13,
   "id": "cb1919b4-8c84-41fb-b222-8477ca8d2acf",
   "metadata": {},
   "outputs": [
    {
     "name": "stdout",
     "output_type": "stream",
     "text": [
      "Metal device set to: Apple M1 Max\n"
     ]
    },
    {
     "name": "stderr",
     "output_type": "stream",
     "text": [
      "2021-12-13 07:01:00.983290: I tensorflow/core/common_runtime/pluggable_device/pluggable_device_factory.cc:305] Could not identify NUMA node of platform GPU ID 0, defaulting to 0. Your kernel may not have been built with NUMA support.\n",
      "2021-12-13 07:01:00.983431: I tensorflow/core/common_runtime/pluggable_device/pluggable_device_factory.cc:271] Created TensorFlow device (/job:localhost/replica:0/task:0/device:GPU:0 with 0 MB memory) -> physical PluggableDevice (device: 0, name: METAL, pci bus id: <undefined>)\n",
      "2021-12-13 07:01:01.009882: W tensorflow/core/platform/profile_utils/cpu_utils.cc:128] Failed to get CPU frequency: 0 Hz\n",
      "2021-12-13 07:01:01.215802: I tensorflow/core/grappler/optimizers/custom_graph_optimizer_registry.cc:112] Plugin optimizer for device_type GPU is enabled.\n"
     ]
    }
   ],
   "source": [
    "\n",
    "# model = \"https://tfhub.dev/google/tf2-preview/gnews-swivel-20dim-with-oov/1\"\n",
    "# shape = 20\n",
    "\n",
    "# model = \"https://tfhub.dev/google/tf2-preview/gnews-swivel-20dim/1\"\n",
    "# shape = 20\n",
    "\n",
    "model = 'https://tfhub.dev/google/nnlm-en-dim50-with-normalization/2'\n",
    "shape = 50\n",
    "\n",
    "# model = 'https://tfhub.dev/google/tf2-preview/nnlm-en-dim128/1'\n",
    "# shape = 128\n",
    "\n",
    "# model = 'https://tfhub.dev/google/tf2-preview/nnlm-en-dim128-with-normalization/1'\n",
    "# shape = 128\n",
    "\n",
    "# model = 'https://tfhub.dev/google/nnlm-en-dim128/2'\n",
    "# shape = 128\n",
    "\n",
    "hub_layer = hub.KerasLayer(model, \n",
    "                           output_shape=[shape], # Outputs a tensor with shape [batch_size, 20].\n",
    "                           input_shape=[],       # Expects a tensor of shape [batch_size] as input.\n",
    "                           dtype=tf.string,      # Expects a tf.string input tensor.\n",
    "                           trainable=True)\n",
    "# hub_layer(X_train[:1])"
   ]
  },
  {
   "cell_type": "code",
   "execution_count": 14,
   "id": "919b752d-f327-4f99-9ddb-7c9d5f79fd9e",
   "metadata": {},
   "outputs": [
    {
     "name": "stdout",
     "output_type": "stream",
     "text": [
      "Model: \"sequential\"\n",
      "_________________________________________________________________\n",
      " Layer (type)                Output Shape              Param #   \n",
      "=================================================================\n",
      " keras_layer (KerasLayer)    (None, 50)                48190600  \n",
      "                                                                 \n",
      " dropout (Dropout)           (None, 50)                0         \n",
      "                                                                 \n",
      " dense (Dense)               (None, 1000)              51000     \n",
      "                                                                 \n",
      " dropout_1 (Dropout)         (None, 1000)              0         \n",
      "                                                                 \n",
      " dense_1 (Dense)             (None, 1000)              1001000   \n",
      "                                                                 \n",
      " dense_2 (Dense)             (None, 1)                 1001      \n",
      "                                                                 \n",
      "=================================================================\n",
      "Total params: 49,243,601\n",
      "Trainable params: 49,243,601\n",
      "Non-trainable params: 0\n",
      "_________________________________________________________________\n"
     ]
    }
   ],
   "source": [
    "# class myCallback(tf.keras.callbacks.Callback):\n",
    "#     def on_epoch_end(self, epoch, logs={}):\n",
    "#         if (logs.get('accuracy') > 0.998): \n",
    "#             print(\"\\nstopping training!\")\n",
    "#             self.model.stop_training = True\n",
    "# callbacks = myCallback()\n",
    "\n",
    "cb_callback = tf.keras.callbacks.ModelCheckpoint('pcl_model.h5', \n",
    "                                                 monitor='val_recall',\n",
    "                                                 mode='max',\n",
    "                                                 save_best_only=True)\n",
    "callbacks = cb_callback\n",
    "\n",
    "model = tf.keras.Sequential()\n",
    "model.add(hub_layer)\n",
    "\n",
    "model.add(Dropout(0.4, input_shape=(shape,)))\n",
    "\n",
    "model.add(Dense(shape*20, activation='relu', kernel_initializer=tf.keras.initializers.he_normal()))\n",
    "\n",
    "model.add(Dropout(0.4))\n",
    "\n",
    "model.add(Dense(shape*20, activation='relu', kernel_initializer=tf.keras.initializers.he_normal()))\n",
    "\n",
    "model.add(Dense(1, activation='sigmoid', kernel_initializer=tf.keras.initializers.he_normal()))\n",
    "\n",
    "model.summary()"
   ]
  },
  {
   "cell_type": "code",
   "execution_count": 15,
   "id": "8de355b6-43ef-494c-a7c9-7f16214f4b46",
   "metadata": {},
   "outputs": [],
   "source": [
    "model.compile(optimizer='adam',\n",
    "              loss='binary_crossentropy',\n",
    "              metrics=['accuracy', tf.keras.metrics.Precision(), tf.keras.metrics.Recall()])"
   ]
  },
  {
   "cell_type": "code",
   "execution_count": 16,
   "id": "49f89b8e-32e9-441d-92c9-a6d5dc9e91b5",
   "metadata": {},
   "outputs": [
    {
     "data": {
      "image/png": "[encoded data removed]",
      "text/plain": [
       "<IPython.core.display.Image object>"
      ]
     },
     "execution_count": 16,
     "metadata": {},
     "output_type": "execute_result"
    }
   ],
   "source": [
    "# getting graph of model\n",
    "plot_model(model)"
   ]
  },
  {
   "cell_type": "code",
   "execution_count": 17,
   "id": "e1102c9a-7aab-4733-b26b-5f0fd1bf5dcd",
   "metadata": {},
   "outputs": [
    {
     "name": "stdout",
     "output_type": "stream",
     "text": [
      "Epoch 1/20\n"
     ]
    },
    {
     "name": "stderr",
     "output_type": "stream",
     "text": [
      "2021-12-13 07:01:02.078307: I tensorflow/core/grappler/optimizers/custom_graph_optimizer_registry.cc:112] Plugin optimizer for device_type GPU is enabled.\n"
     ]
    },
    {
     "name": "stdout",
     "output_type": "stream",
     "text": [
      "131/131 [==============================] - ETA: 0s - loss: 0.3147 - accuracy: 0.9014 - precision: 0.1667 - recall: 0.0101"
     ]
    },
    {
     "name": "stderr",
     "output_type": "stream",
     "text": [
      "2021-12-13 07:01:07.715040: I tensorflow/core/grappler/optimizers/custom_graph_optimizer_registry.cc:112] Plugin optimizer for device_type GPU is enabled.\n"
     ]
    },
    {
     "name": "stdout",
     "output_type": "stream",
     "text": [
      "131/131 [==============================] - 7s 46ms/step - loss: 0.3147 - accuracy: 0.9014 - precision: 0.1667 - recall: 0.0101 - val_loss: 0.3357 - val_accuracy: 0.9045 - val_precision: 0.4932 - val_recall: 0.1809\n",
      "Epoch 2/20\n",
      "131/131 [==============================] - 6s 42ms/step - loss: 0.2470 - accuracy: 0.9096 - precision: 0.6022 - recall: 0.1373 - val_loss: 0.2612 - val_accuracy: 0.9040 - val_precision: 0.4886 - val_recall: 0.2161\n",
      "Epoch 3/20\n",
      "131/131 [==============================] - 6s 42ms/step - loss: 0.1983 - accuracy: 0.9198 - precision: 0.6533 - recall: 0.3275 - val_loss: 0.2759 - val_accuracy: 0.8782 - val_precision: 0.3750 - val_recall: 0.4221\n",
      "Epoch 4/20\n",
      "131/131 [==============================] - 6s 43ms/step - loss: 0.1418 - accuracy: 0.9457 - precision: 0.7868 - recall: 0.5856 - val_loss: 0.2896 - val_accuracy: 0.8887 - val_precision: 0.4190 - val_recall: 0.4422\n",
      "Epoch 5/20\n",
      "131/131 [==============================] - 5s 40ms/step - loss: 0.1048 - accuracy: 0.9589 - precision: 0.8270 - recall: 0.7166 - val_loss: 0.3101 - val_accuracy: 0.8945 - val_precision: 0.4360 - val_recall: 0.3769\n",
      "Epoch 6/20\n",
      "131/131 [==============================] - 5s 40ms/step - loss: 0.0733 - accuracy: 0.9716 - precision: 0.8717 - recall: 0.8212 - val_loss: 0.3426 - val_accuracy: 0.8906 - val_precision: 0.4038 - val_recall: 0.3166\n",
      "Epoch 7/20\n",
      "131/131 [==============================] - 5s 40ms/step - loss: 0.0498 - accuracy: 0.9799 - precision: 0.9086 - recall: 0.8766 - val_loss: 0.4307 - val_accuracy: 0.8768 - val_precision: 0.3700 - val_recall: 0.4221\n",
      "Epoch 8/20\n",
      "131/131 [==============================] - 5s 40ms/step - loss: 0.0346 - accuracy: 0.9867 - precision: 0.9373 - recall: 0.9219 - val_loss: 0.4770 - val_accuracy: 0.8854 - val_precision: 0.3980 - val_recall: 0.4020\n",
      "Epoch 9/20\n",
      "131/131 [==============================] - 5s 41ms/step - loss: 0.0278 - accuracy: 0.9887 - precision: 0.9475 - recall: 0.9320 - val_loss: 0.5264 - val_accuracy: 0.8797 - val_precision: 0.3833 - val_recall: 0.4372\n",
      "Epoch 10/20\n",
      "131/131 [==============================] - 5s 41ms/step - loss: 0.0232 - accuracy: 0.9899 - precision: 0.9482 - recall: 0.9446 - val_loss: 0.5709 - val_accuracy: 0.8816 - val_precision: 0.3850 - val_recall: 0.4121\n",
      "Epoch 11/20\n",
      "131/131 [==============================] - 5s 41ms/step - loss: 0.0157 - accuracy: 0.9946 - precision: 0.9711 - recall: 0.9723 - val_loss: 0.6536 - val_accuracy: 0.8906 - val_precision: 0.4219 - val_recall: 0.4070\n",
      "Epoch 12/20\n",
      "131/131 [==============================] - 5s 41ms/step - loss: 0.0156 - accuracy: 0.9945 - precision: 0.9734 - recall: 0.9685 - val_loss: 0.6241 - val_accuracy: 0.8734 - val_precision: 0.3602 - val_recall: 0.4271\n",
      "Epoch 13/20\n",
      "131/131 [==============================] - 5s 40ms/step - loss: 0.0117 - accuracy: 0.9958 - precision: 0.9786 - recall: 0.9773 - val_loss: 0.7034 - val_accuracy: 0.8859 - val_precision: 0.3936 - val_recall: 0.3719\n",
      "Epoch 14/20\n",
      "131/131 [==============================] - 5s 40ms/step - loss: 0.0089 - accuracy: 0.9967 - precision: 0.9836 - recall: 0.9811 - val_loss: 0.7296 - val_accuracy: 0.8773 - val_precision: 0.3717 - val_recall: 0.4221\n",
      "Epoch 15/20\n",
      "131/131 [==============================] - 5s 41ms/step - loss: 0.0105 - accuracy: 0.9962 - precision: 0.9823 - recall: 0.9773 - val_loss: 0.7600 - val_accuracy: 0.8863 - val_precision: 0.3886 - val_recall: 0.3417\n",
      "Epoch 16/20\n",
      "131/131 [==============================] - 5s 41ms/step - loss: 0.0072 - accuracy: 0.9975 - precision: 0.9886 - recall: 0.9849 - val_loss: 0.7978 - val_accuracy: 0.8797 - val_precision: 0.3756 - val_recall: 0.4020\n",
      "Epoch 17/20\n",
      "131/131 [==============================] - 5s 41ms/step - loss: 0.0104 - accuracy: 0.9962 - precision: 0.9774 - recall: 0.9824 - val_loss: 0.7054 - val_accuracy: 0.8916 - val_precision: 0.4186 - val_recall: 0.3618\n",
      "Epoch 18/20\n",
      "131/131 [==============================] - 5s 40ms/step - loss: 0.0061 - accuracy: 0.9977 - precision: 0.9924 - recall: 0.9836 - val_loss: 0.8187 - val_accuracy: 0.8940 - val_precision: 0.4258 - val_recall: 0.3317\n",
      "Epoch 19/20\n",
      "131/131 [==============================] - 5s 40ms/step - loss: 0.0066 - accuracy: 0.9980 - precision: 0.9924 - recall: 0.9861 - val_loss: 0.8245 - val_accuracy: 0.8835 - val_precision: 0.3881 - val_recall: 0.3920\n",
      "Epoch 20/20\n",
      "131/131 [==============================] - 5s 40ms/step - loss: 0.0035 - accuracy: 0.9986 - precision: 0.9912 - recall: 0.9937 - val_loss: 0.8475 - val_accuracy: 0.8825 - val_precision: 0.3831 - val_recall: 0.3869\n",
      "CPU times: user 57.6 s, sys: 44.4 s, total: 1min 42s\n",
      "Wall time: 1min 48s\n"
     ]
    }
   ],
   "source": [
    "%%time\n",
    "\n",
    "history = model.fit(X_train,\n",
    "                    y_train,\n",
    "                    epochs=20,\n",
    "                    batch_size=64,\n",
    "                    validation_data=(X_test, y_test),\n",
    "                    verbose=1,\n",
    "                    callbacks=[callbacks])"
   ]
  },
  {
   "cell_type": "code",
   "execution_count": 18,
   "id": "1f7f0e13-0e66-486b-97f3-c110267eabb3",
   "metadata": {},
   "outputs": [
    {
     "name": "stderr",
     "output_type": "stream",
     "text": [
      "2021-12-13 07:02:50.213539: I tensorflow/core/grappler/optimizers/custom_graph_optimizer_registry.cc:112] Plugin optimizer for device_type GPU is enabled.\n"
     ]
    }
   ],
   "source": [
    "model = tf.keras.models.load_model(('pcl_model.h5'),custom_objects={'KerasLayer':hub.KerasLayer})"
   ]
  },
  {
   "cell_type": "code",
   "execution_count": 19,
   "id": "9f5b70d6-f5e6-4169-9ea9-f22d1390aac9",
   "metadata": {},
   "outputs": [
    {
     "name": "stdout",
     "output_type": "stream",
     "text": [
      " 5/66 [=>............................] - ETA: 0s - loss: 1.5367 - accuracy: 0.4437 - precision: 1.0000 - recall: 0.4437 "
     ]
    },
    {
     "name": "stderr",
     "output_type": "stream",
     "text": [
      "2021-12-13 07:02:50.773432: I tensorflow/core/grappler/optimizers/custom_graph_optimizer_registry.cc:112] Plugin optimizer for device_type GPU is enabled.\n"
     ]
    },
    {
     "name": "stdout",
     "output_type": "stream",
     "text": [
      "66/66 [==============================] - 1s 11ms/step - loss: 0.2896 - accuracy: 0.8887 - precision: 0.4190 - recall: 0.4422\n",
      "Test loss: 0.2895835041999817\n",
      "Test accuracy: 0.8887296915054321\n",
      "Test precision: 0.41904762387275696\n",
      "Test recall: 0.4422110617160797\n"
     ]
    }
   ],
   "source": [
    "score = model.evaluate(X_test, y_test, verbose = 1) \n",
    "print('Test loss:', score[0]) \n",
    "print('Test accuracy:', score[1])\n",
    "print('Test precision:', score[2]) \n",
    "print('Test recall:', score[3])"
   ]
  },
  {
   "cell_type": "code",
   "execution_count": 20,
   "id": "20f261f0-b99a-406d-b7b5-deec06e250eb",
   "metadata": {},
   "outputs": [
    {
     "name": "stderr",
     "output_type": "stream",
     "text": [
      "2021-12-13 07:02:51.666083: I tensorflow/core/grappler/optimizers/custom_graph_optimizer_registry.cc:112] Plugin optimizer for device_type GPU is enabled.\n"
     ]
    },
    {
     "name": "stdout",
     "output_type": "stream",
     "text": [
      "210 1884\n"
     ]
    }
   ],
   "source": [
    "pred = model.predict(X_test) \n",
    "# print(pred)\n",
    "# pred = np.argmax(pred, axis = 1)[:5] \n",
    "# label = np.argmax(y_test,axis = 1)[:5] \n",
    "\n",
    "# print(pred) \n",
    "# print(label)\n",
    "pos = pred[pred >= 0.5]\n",
    "neg = pred[pred < 0.5]\n",
    "print(len(pos), len(neg))"
   ]
  },
  {
   "cell_type": "code",
   "execution_count": 21,
   "id": "df6fc5aa-954a-43a5-80b7-e65b1e5e923f",
   "metadata": {},
   "outputs": [],
   "source": [
    "# relabel\n",
    "pred[pred >= 0.5] = 1\n",
    "pred[pred < 0.5] = 0\n",
    "pred = pred.astype(int)"
   ]
  },
  {
   "cell_type": "code",
   "execution_count": 22,
   "id": "af477273-2c04-4094-bced-4a4f7068449d",
   "metadata": {},
   "outputs": [],
   "source": [
    "# save results to file\n",
    "labels2file(pred, os.path.join('res/', 'task1.txt'))"
   ]
  },
  {
   "cell_type": "code",
   "execution_count": 23,
   "id": "3450115f-2afb-4aad-aa15-fc7e97ed7317",
   "metadata": {},
   "outputs": [],
   "source": [
    "# for subtask 1 (we convert our list of labels into a list of lists to make \n",
    "# it compatible with the labels2file function)\n",
    "labels2file(test_set.label.apply(lambda x:[x]).tolist(), os.path.join('ref/', 'task1.txt'))"
   ]
  },
  {
   "cell_type": "code",
   "execution_count": 24,
   "id": "119d02ca-807a-4687-bb9b-dd877d3ca8c1",
   "metadata": {},
   "outputs": [],
   "source": [
    "# Now, we can just call the official scorer, which takes an input_directory and an output_directory\n",
    "# as arguments. In this example, both will be the root directory of this notebook.\n",
    "!python3 evaluation.py . ."
   ]
  },
  {
   "cell_type": "code",
   "execution_count": 25,
   "id": "0b81cd15-34bb-4f90-8373-5bafb2461eb5",
   "metadata": {},
   "outputs": [
    {
     "name": "stdout",
     "output_type": "stream",
     "text": [
      "task1_precision:0.41904761904761906\n",
      "task1_recall:0.44221105527638194\n",
      "task1_f1:0.43031784841075804\n"
     ]
    }
   ],
   "source": [
    "# The scorer generated a results file called \"scores.txt\". \n",
    "# We can now see the performance of a random baseline on the training set.\n",
    "!cat scores.txt"
   ]
  },
  {
   "cell_type": "code",
   "execution_count": 26,
   "id": "6a0688ea-150a-4be0-9965-f5373832ddae",
   "metadata": {},
   "outputs": [
    {
     "name": "stdout",
     "output_type": "stream",
     "text": [
      "updating: task1.txt (deflated 94%)\n"
     ]
    }
   ],
   "source": [
    "# the left pane should now show a file called submission.zip, which you can submit to Codalab\n",
    "!cp 'res/task1.txt' 'task1.txt'\n",
    "!zip submission.zip 'task1.txt'\n",
    "# ! rm 'task1.txt'"
   ]
  },
  {
   "cell_type": "code",
   "execution_count": 27,
   "id": "3a36335b-fb33-4e8c-9a7d-c498d188f083",
   "metadata": {},
   "outputs": [
    {
     "data": {
      "text/plain": [
       "dict_keys(['loss', 'accuracy', 'precision', 'recall', 'val_loss', 'val_accuracy', 'val_precision', 'val_recall'])"
      ]
     },
     "execution_count": 27,
     "metadata": {},
     "output_type": "execute_result"
    }
   ],
   "source": [
    "history_dict = history.history\n",
    "history_dict.keys()"
   ]
  },
  {
   "cell_type": "code",
   "execution_count": 28,
   "id": "a81531dc-9c06-4e08-9017-187de4dc6da3",
   "metadata": {},
   "outputs": [
    {
     "data": {
      "image/png": "[encoded data removed]",
      "text/plain": [
       "<Figure size 864x288 with 2 Axes>"
      ]
     },
     "metadata": {
      "needs_background": "light"
     },
     "output_type": "display_data"
    }
   ],
   "source": [
    "acc = history_dict['accuracy']\n",
    "val_acc = history_dict['val_accuracy']\n",
    "loss = history_dict['loss']\n",
    "val_loss = history_dict['val_loss']\n",
    "prec = history_dict['precision']\n",
    "val_prec = history_dict['val_precision']\n",
    "rec = history_dict['recall']\n",
    "val_rec = history_dict['val_recall']\n",
    "\n",
    "\n",
    "\n",
    "epochs = range(1, len(acc) + 1)\n",
    "\n",
    "plt.rcParams[\"figure.figsize\"] = (12,4)\n",
    "\n",
    "plt.subplot(1, 2, 1)\n",
    "plt.plot(epochs, loss, 'bo', label='training loss')\n",
    "plt.plot(epochs, val_loss, 'b', label='validation loss')\n",
    "plt.title('training and validation loss')\n",
    "plt.xlabel('epochs')\n",
    "plt.ylabel('loss')\n",
    "plt.legend()\n",
    "\n",
    "plt.subplot(1, 2, 2)\n",
    "plt.plot(epochs, acc, 'bo', label='training acc')\n",
    "plt.plot(epochs, val_acc, 'b', label='validation acc')\n",
    "plt.title('training and validation accuracy')\n",
    "plt.xlabel('epochs')\n",
    "plt.ylabel('accuracy')\n",
    "plt.legend()\n",
    "\n",
    "plt.show()"
   ]
  },
  {
   "cell_type": "code",
   "execution_count": 29,
   "id": "a3ccee7e-287d-409f-bf9d-13f0b8ec2f2c",
   "metadata": {},
   "outputs": [
    {
     "data": {
      "image/png": "[encoded data removed]",
      "text/plain": [
       "<Figure size 864x288 with 2 Axes>"
      ]
     },
     "metadata": {
      "needs_background": "light"
     },
     "output_type": "display_data"
    }
   ],
   "source": [
    "plt.subplot(1, 2, 1)\n",
    "plt.plot(epochs, prec, 'bo', label='training precision')\n",
    "plt.plot(epochs, val_prec, 'b', label='validation precision')\n",
    "plt.title('training and validation precision')\n",
    "plt.xlabel('epochs')\n",
    "plt.ylabel('precision')\n",
    "plt.legend()\n",
    "\n",
    "plt.subplot(1, 2, 2)\n",
    "plt.plot(epochs, rec, 'bo', label='training recall')\n",
    "plt.plot(epochs, val_rec, 'b', label='validation recall')\n",
    "plt.title('training and validation recall')\n",
    "plt.xlabel('epochs')\n",
    "plt.ylabel('recall')\n",
    "plt.legend()\n",
    "\n",
    "plt.show()"
   ]
  },
  {
   "cell_type": "code",
   "execution_count": 31,
   "id": "d352218e-4b57-45bb-a1d3-13347fd82ce9",
   "metadata": {},
   "outputs": [],
   "source": [
    "# saving model weights\n",
    "# model.save_weights('f1_0430_consistent.h5')"
   ]
  },
  {
   "cell_type": "code",
   "execution_count": 33,
   "id": "b104707f-039b-4d7d-ae57-ef6a3f7ab629",
   "metadata": {},
   "outputs": [
    {
     "data": {
      "image/png": "[encoded data removed]",
      "text/plain": [
       "<Figure size 864x288 with 2 Axes>"
      ]
     },
     "metadata": {
      "needs_background": "light"
     },
     "output_type": "display_data"
    }
   ],
   "source": [
    "cm = confusion_matrix(test_set.label.to_list(), pred)\n",
    "disp = ConfusionMatrixDisplay(confusion_matrix=cm)\n",
    "disp.plot()\n",
    "plt.show()"
   ]
  },
  {
   "cell_type": "code",
   "execution_count": null,
   "id": "a3c41dfc-1203-4d8c-bc31-70eb14cea1f2",
   "metadata": {},
   "outputs": [],
   "source": []
  }
 ],
 "metadata": {
  "kernelspec": {
   "display_name": "Python 3 (ipykernel)",
   "language": "python",
   "name": "python3"
  },
  "language_info": {
   "codemirror_mode": {
    "name": "ipython",
    "version": 3
   },
   "file_extension": ".py",
   "mimetype": "text/x-python",
   "name": "python",
   "nbconvert_exporter": "python",
   "pygments_lexer": "ipython3",
   "version": "3.8.12"
  }
 },
 "nbformat": 4,
 "nbformat_minor": 5
}
