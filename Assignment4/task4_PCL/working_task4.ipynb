{
 "cells": [
  {
   "cell_type": "code",
   "execution_count": 1,
   "id": "39a1331a-54fb-45a0-8627-17946e3e4e8e",
   "metadata": {},
   "outputs": [
    {
     "name": "stdout",
     "output_type": "stream",
     "text": [
      "Version:  2.7.0\n",
      "Eager mode:  True\n",
      "Hub version:  0.12.0\n",
      "WARNING:tensorflow:From /var/folders/gh/ssm1fz4j12j05_fcyw53gxs00000gn/T/ipykernel_20824/285078100.py:17: is_gpu_available (from tensorflow.python.framework.test_util) is deprecated and will be removed in a future version.\n",
      "Instructions for updating:\n",
      "Use `tf.config.list_physical_devices('GPU')` instead.\n",
      "GPU is available\n"
     ]
    },
    {
     "name": "stderr",
     "output_type": "stream",
     "text": [
      "2021-12-10 14:23:58.851742: I tensorflow/core/common_runtime/pluggable_device/pluggable_device_factory.cc:305] Could not identify NUMA node of platform GPU ID 0, defaulting to 0. Your kernel may not have been built with NUMA support.\n"
     ]
    },
    {
     "name": "stdout",
     "output_type": "stream",
     "text": [
      "Metal device set to: Apple M1 Max\n"
     ]
    },
    {
     "name": "stderr",
     "output_type": "stream",
     "text": [
      "2021-12-10 14:23:58.851855: I tensorflow/core/common_runtime/pluggable_device/pluggable_device_factory.cc:271] Created TensorFlow device (/device:GPU:0 with 0 MB memory) -> physical PluggableDevice (device: 0, name: METAL, pci bus id: <undefined>)\n"
     ]
    }
   ],
   "source": [
    "import os\n",
    "from dontpatronizeme.semeval_2022 import dont_patronize_me as dpm\n",
    "\n",
    "import numpy as np\n",
    "import pandas as pd\n",
    "\n",
    "import tensorflow as tf\n",
    "import tensorflow_hub as hub\n",
    "import tensorflow_datasets as tfds\n",
    "\n",
    "import matplotlib.pyplot as plt\n",
    "from sklearn.model_selection import train_test_split\n",
    "\n",
    "print(\"Version: \", tf.__version__)\n",
    "print(\"Eager mode: \", tf.executing_eagerly())\n",
    "print(\"Hub version: \", hub.__version__)\n",
    "print(\"GPU is\", \"available\" if tf.test.is_gpu_available() else \"NOT AVAILABLE\")"
   ]
  },
  {
   "cell_type": "code",
   "execution_count": 2,
   "id": "9409a9d5-283b-457b-8488-527fd2573fa1",
   "metadata": {},
   "outputs": [
    {
     "name": "stdout",
     "output_type": "stream",
     "text": [
      "(10469, 6)\n"
     ]
    },
    {
     "data": {
      "text/html": [
       "<div>\n",
       "<style scoped>\n",
       "    .dataframe tbody tr th:only-of-type {\n",
       "        vertical-align: middle;\n",
       "    }\n",
       "\n",
       "    .dataframe tbody tr th {\n",
       "        vertical-align: top;\n",
       "    }\n",
       "\n",
       "    .dataframe thead th {\n",
       "        text-align: right;\n",
       "    }\n",
       "</style>\n",
       "<table border=\"1\" class=\"dataframe\">\n",
       "  <thead>\n",
       "    <tr style=\"text-align: right;\">\n",
       "      <th></th>\n",
       "      <th>par_id</th>\n",
       "      <th>art_id</th>\n",
       "      <th>keyword</th>\n",
       "      <th>country_code</th>\n",
       "      <th>text</th>\n",
       "      <th>label</th>\n",
       "    </tr>\n",
       "  </thead>\n",
       "  <tbody>\n",
       "    <tr>\n",
       "      <th>0</th>\n",
       "      <td>1</td>\n",
       "      <td>@@24942188</td>\n",
       "      <td>hopeless</td>\n",
       "      <td>ph</td>\n",
       "      <td>We 're living in times of absolute insanity , ...</td>\n",
       "      <td>0</td>\n",
       "    </tr>\n",
       "    <tr>\n",
       "      <th>1</th>\n",
       "      <td>2</td>\n",
       "      <td>@@21968160</td>\n",
       "      <td>migrant</td>\n",
       "      <td>gh</td>\n",
       "      <td>In Libya today , there are countless number of...</td>\n",
       "      <td>0</td>\n",
       "    </tr>\n",
       "    <tr>\n",
       "      <th>2</th>\n",
       "      <td>3</td>\n",
       "      <td>@@16584954</td>\n",
       "      <td>immigrant</td>\n",
       "      <td>ie</td>\n",
       "      <td>White House press secretary Sean Spicer said t...</td>\n",
       "      <td>0</td>\n",
       "    </tr>\n",
       "    <tr>\n",
       "      <th>3</th>\n",
       "      <td>4</td>\n",
       "      <td>@@7811231</td>\n",
       "      <td>disabled</td>\n",
       "      <td>nz</td>\n",
       "      <td>Council customers only signs would be displaye...</td>\n",
       "      <td>0</td>\n",
       "    </tr>\n",
       "    <tr>\n",
       "      <th>4</th>\n",
       "      <td>5</td>\n",
       "      <td>@@1494111</td>\n",
       "      <td>refugee</td>\n",
       "      <td>ca</td>\n",
       "      <td>\" Just like we received migrants fleeing El Sa...</td>\n",
       "      <td>0</td>\n",
       "    </tr>\n",
       "  </tbody>\n",
       "</table>\n",
       "</div>"
      ],
      "text/plain": [
       "   par_id      art_id    keyword country_code  \\\n",
       "0       1  @@24942188   hopeless           ph   \n",
       "1       2  @@21968160    migrant           gh   \n",
       "2       3  @@16584954  immigrant           ie   \n",
       "3       4   @@7811231   disabled           nz   \n",
       "4       5   @@1494111    refugee           ca   \n",
       "\n",
       "                                                text  label  \n",
       "0  We 're living in times of absolute insanity , ...      0  \n",
       "1  In Libya today , there are countless number of...      0  \n",
       "2  White House press secretary Sean Spicer said t...      0  \n",
       "3  Council customers only signs would be displaye...      0  \n",
       "4  \" Just like we received migrants fleeing El Sa...      0  "
      ]
     },
     "execution_count": 2,
     "metadata": {},
     "output_type": "execute_result"
    }
   ],
   "source": [
    "# - <par_id> is a unique id for each one of the paragraphs in the corpus.\n",
    "# - <art_id> is the document id in the original NOW corpus (News on Web: https://www.english-corpora.org/now/).\n",
    "# - <keyword> is the search term used to retrieve texts about a target community.\n",
    "# - <country_code> is a two-letter ISO Alpha-2 country code for the source media outlet.\n",
    "# - <text> is the paragraph containing the keyword.\n",
    "# - <label> is an integer between 0 and 4. Each paragraph has been annotated by two annotators as 0 (No PCL), 1 (borderline PCL) and 2 (contains PCL). The combined annotations have been used in the following graded scale:\n",
    "\n",
    "data = pd.read_csv('dontpatronizeme/dontpatronizeme_v1.4/dontpatronizeme_pcl.tsv', \n",
    "                   skiprows=4,\n",
    "                   sep='\\t', header=None)\n",
    "\n",
    "data.columns = ['par_id', 'art_id', 'keyword', 'country_code', 'text', 'label']\n",
    "print(data.shape)\n",
    "data.head(5)"
   ]
  },
  {
   "cell_type": "code",
   "execution_count": 3,
   "id": "a8282ddc-6ff2-491e-bf0a-6bd39d2e33e5",
   "metadata": {},
   "outputs": [
    {
     "data": {
      "text/plain": [
       "array([    1,     2,     3, ..., 10467, 10468, 10469])"
      ]
     },
     "execution_count": 3,
     "metadata": {},
     "output_type": "execute_result"
    }
   ],
   "source": [
    "par_id = data.par_id.to_numpy()\n",
    "par_id"
   ]
  },
  {
   "cell_type": "code",
   "execution_count": 4,
   "id": "1f8666d4-02c5-4639-bdfb-ab7c9ce8d33c",
   "metadata": {},
   "outputs": [
    {
     "data": {
      "text/plain": [
       "array(['@@24942188', '@@21968160', '@@16584954', ..., '@@20282330',\n",
       "       '@@16753236', '@@16779383'], dtype=object)"
      ]
     },
     "execution_count": 4,
     "metadata": {},
     "output_type": "execute_result"
    }
   ],
   "source": [
    "art_id = data.art_id.to_numpy()\n",
    "art_id"
   ]
  },
  {
   "cell_type": "code",
   "execution_count": 5,
   "id": "9963ee5c-a80d-4998-8e5a-47236c2e1b0b",
   "metadata": {},
   "outputs": [
    {
     "data": {
      "text/plain": [
       "array(['hopeless', 'migrant', 'immigrant', ..., 'in-need', 'hopeless',\n",
       "       'homeless'], dtype=object)"
      ]
     },
     "execution_count": 5,
     "metadata": {},
     "output_type": "execute_result"
    }
   ],
   "source": [
    "keyword = data.keyword.to_numpy()\n",
    "keyword"
   ]
  },
  {
   "cell_type": "code",
   "execution_count": 6,
   "id": "285c4fcc-9548-4eb4-b9ab-f48138ddfcc4",
   "metadata": {},
   "outputs": [
    {
     "data": {
      "text/plain": [
       "array(['ph', 'gh', 'ie', ..., 'ng', 'in', 'ie'], dtype=object)"
      ]
     },
     "execution_count": 6,
     "metadata": {},
     "output_type": "execute_result"
    }
   ],
   "source": [
    "country_code = data.country_code.to_numpy()\n",
    "country_code"
   ]
  },
  {
   "cell_type": "code",
   "execution_count": 7,
   "id": "399ed0b6-ee65-4d37-80d9-71f0bc85c1d4",
   "metadata": {},
   "outputs": [
    {
     "data": {
      "text/plain": [
       "array([\"We 're living in times of absolute insanity , as I 'm pretty sure most people are aware . For a while , waking up every day to check the news seemed to carry with it the same feeling of panic and dread that action heroes probably face when they 're trying to decide whether to cut the blue or green wire on a ticking bomb -- except the bomb 's instructions long ago burned in a fire and imminent catastrophe seems the likeliest outcome . It 's hard to stay that on-edge for that long , though , so it 's natural for people to become inured to this constant chaos , to slump into a malaise of hopelessness and pessimism .\",\n",
       "       \"In Libya today , there are countless number of Ghanaian and Nigerian immigrants . These are the two countries with key macroeconomic challenges including unemployment . Let 's tackle this issue from the root and not the fruit . Thank you\"],\n",
       "      dtype=object)"
      ]
     },
     "execution_count": 7,
     "metadata": {},
     "output_type": "execute_result"
    }
   ],
   "source": [
    "text = data.text.to_numpy()\n",
    "text[:2]"
   ]
  },
  {
   "cell_type": "code",
   "execution_count": 8,
   "id": "3cf89786-9e3c-4d55-a887-75286049ff9f",
   "metadata": {},
   "outputs": [
    {
     "data": {
      "text/plain": [
       "array([0, 0, 0, ..., 3, 4, 3])"
      ]
     },
     "execution_count": 8,
     "metadata": {},
     "output_type": "execute_result"
    }
   ],
   "source": [
    "label = data.label.to_numpy()\n",
    "label"
   ]
  },
  {
   "cell_type": "code",
   "execution_count": 9,
   "id": "a438bcaa-7a57-4807-a073-515138e041dd",
   "metadata": {},
   "outputs": [
    {
     "name": "stdout",
     "output_type": "stream",
     "text": [
      "(array([0, 1, 2, 3, 4]), array([8529,  947,  144,  458,  391]))\n"
     ]
    }
   ],
   "source": [
    "print(np.unique(label, return_counts=True))\n",
    "# print(np.info(label))"
   ]
  },
  {
   "cell_type": "code",
   "execution_count": 10,
   "id": "616a5485-ef3b-4a96-a69c-8be514ee82e6",
   "metadata": {},
   "outputs": [],
   "source": [
    "x_data = list(data.iloc[:, 4].to_numpy())\n",
    "# x_data"
   ]
  },
  {
   "cell_type": "code",
   "execution_count": 11,
   "id": "f0e598f1-9695-4db0-b447-3d34468ce7ec",
   "metadata": {},
   "outputs": [
    {
     "data": {
      "text/plain": [
       "array([0, 0, 0, ..., 3, 4, 3])"
      ]
     },
     "execution_count": 11,
     "metadata": {},
     "output_type": "execute_result"
    }
   ],
   "source": [
    "y_label = data.iloc[:, -1].to_numpy()\n",
    "y_label"
   ]
  },
  {
   "cell_type": "code",
   "execution_count": 12,
   "id": "ab93fd7e-066c-4730-abe9-7ad4c5b4c629",
   "metadata": {},
   "outputs": [],
   "source": [
    "X_train, X_test, y_train, y_test = train_test_split(x_data, y_label, test_size=0.20, random_state=42)\n",
    "# X_train"
   ]
  },
  {
   "cell_type": "code",
   "execution_count": null,
   "id": "02cf6849-0786-4dda-9d39-7f84a6687d7a",
   "metadata": {},
   "outputs": [],
   "source": [
    "cls = dpm.DontPatronizeMe()"
   ]
  },
  {
   "cell_type": "code",
   "execution_count": 13,
   "id": "d19829fa-a9e4-4044-9ddb-267ada4a3ee3",
   "metadata": {},
   "outputs": [
    {
     "name": "stderr",
     "output_type": "stream",
     "text": [
      "2021-12-10 14:23:58.951033: I tensorflow/core/common_runtime/pluggable_device/pluggable_device_factory.cc:305] Could not identify NUMA node of platform GPU ID 0, defaulting to 0. Your kernel may not have been built with NUMA support.\n",
      "2021-12-10 14:23:58.951055: I tensorflow/core/common_runtime/pluggable_device/pluggable_device_factory.cc:271] Created TensorFlow device (/job:localhost/replica:0/task:0/device:GPU:0 with 0 MB memory) -> physical PluggableDevice (device: 0, name: METAL, pci bus id: <undefined>)\n",
      "2021-12-10 14:23:58.970673: W tensorflow/core/platform/profile_utils/cpu_utils.cc:128] Failed to get CPU frequency: 0 Hz\n",
      "2021-12-10 14:23:58.979085: I tensorflow/core/grappler/optimizers/custom_graph_optimizer_registry.cc:112] Plugin optimizer for device_type GPU is enabled.\n",
      "2021-12-10 14:23:58.989402: I tensorflow/core/grappler/optimizers/custom_graph_optimizer_registry.cc:112] Plugin optimizer for device_type GPU is enabled.\n"
     ]
    },
    {
     "data": {
      "text/plain": [
       "<tf.Tensor: shape=(3, 20), dtype=float32, numpy=\n",
       "array([[ 1.5178323 ,  0.2579619 ,  1.8962922 , -0.22883563,  0.41169694,\n",
       "        -2.8806913 ,  0.76954746,  1.1166486 , -0.7982834 , -0.71134603,\n",
       "         1.3698522 ,  0.6062772 , -1.6364819 ,  0.52668756, -1.756137  ,\n",
       "         1.7023653 ,  2.1843994 , -0.91079664, -0.9670054 , -0.9411651 ],\n",
       "       [ 2.1064057 ,  0.62601954,  1.4203571 , -1.2698228 ,  1.4543746 ,\n",
       "        -1.8965639 ,  1.21231   , -0.19299242, -1.1244173 , -0.6563414 ,\n",
       "         0.50978845,  0.43793494, -2.7593758 ,  0.25953847, -2.0184455 ,\n",
       "        -0.21656777,  2.050317  , -0.81915814, -0.17326725, -0.01286737],\n",
       "       [-0.2304229 , -1.6790617 ,  0.2406589 , -1.1624727 , -1.9014754 ,\n",
       "         0.507259  , -0.9007998 , -0.02438426,  1.2534747 , -0.21496792,\n",
       "        -1.1290158 , -0.01982248,  0.53049296, -0.4629475 , -0.4677253 ,\n",
       "         0.39006478,  0.70096076,  0.4863963 , -0.41430557, -0.19327596]],\n",
       "      dtype=float32)>"
      ]
     },
     "execution_count": 13,
     "metadata": {},
     "output_type": "execute_result"
    }
   ],
   "source": [
    "X_train = np.array(X_train)\n",
    "X_test = np.array(X_test)\n",
    "model = \"https://tfhub.dev/google/tf2-preview/gnews-swivel-20dim/1\"\n",
    "hub_layer = hub.KerasLayer(model, output_shape=[20], input_shape=[], \n",
    "                           dtype=tf.string, trainable=True)\n",
    "hub_layer(X_train[:3])\n"
   ]
  },
  {
   "cell_type": "code",
   "execution_count": 14,
   "id": "63a872d5-1914-4654-aab5-30ea5317966b",
   "metadata": {},
   "outputs": [
    {
     "name": "stdout",
     "output_type": "stream",
     "text": [
      "Model: \"sequential\"\n",
      "_________________________________________________________________\n",
      " Layer (type)                Output Shape              Param #   \n",
      "=================================================================\n",
      " keras_layer (KerasLayer)    (None, 20)                400020    \n",
      "                                                                 \n",
      " dense (Dense)               (None, 16)                336       \n",
      "                                                                 \n",
      " dense_1 (Dense)             (None, 1)                 17        \n",
      "                                                                 \n",
      "=================================================================\n",
      "Total params: 400,373\n",
      "Trainable params: 400,373\n",
      "Non-trainable params: 0\n",
      "_________________________________________________________________\n"
     ]
    }
   ],
   "source": [
    "model = tf.keras.Sequential()\n",
    "model.add(hub_layer)\n",
    "model.add(tf.keras.layers.Dense(16, activation='relu'))\n",
    "model.add(tf.keras.layers.Dense(1, activation='sigmoid'))\n",
    "\n",
    "model.summary()"
   ]
  },
  {
   "cell_type": "code",
   "execution_count": 15,
   "id": "72f03165-d77b-43b0-8be6-b62f74af333a",
   "metadata": {},
   "outputs": [],
   "source": [
    "model.compile(optimizer='adam',\n",
    "              loss='binary_crossentropy',\n",
    "              metrics=['accuracy'])"
   ]
  },
  {
   "cell_type": "code",
   "execution_count": 16,
   "id": "2560644b-3030-4e3e-93a5-d1513333ca45",
   "metadata": {},
   "outputs": [],
   "source": [
    "# print(X_train.shape)\n",
    "# print(X_test.shape)\n",
    "# print(X_train[:2])\n",
    "# print(y_train, y_train.shape)\n",
    "# print(y_test, y_test.shape)\n",
    "\n",
    "# for ii, x in enumerate(X_train):\n",
    "#     X_train[ii] = x.encode()\n",
    "# for ii, x in enumerate(X_test):\n",
    "#     print(X_test[ii])\n",
    "#     X_test[ii] = x.encode()\n",
    "\n"
   ]
  },
  {
   "cell_type": "code",
   "execution_count": null,
   "id": "b37c1db7-bc3d-4780-99db-b3ae914a1921",
   "metadata": {},
   "outputs": [],
   "source": []
  },
  {
   "cell_type": "code",
   "execution_count": 17,
   "id": "51f9132c-d527-4e50-9d1b-16578e42eb06",
   "metadata": {},
   "outputs": [
    {
     "name": "stdout",
     "output_type": "stream",
     "text": [
      "Epoch 1/20\n"
     ]
    },
    {
     "name": "stderr",
     "output_type": "stream",
     "text": [
      "2021-12-10 14:23:59.465787: I tensorflow/core/grappler/optimizers/custom_graph_optimizer_registry.cc:112] Plugin optimizer for device_type GPU is enabled.\n"
     ]
    },
    {
     "name": "stdout",
     "output_type": "stream",
     "text": [
      "262/262 [==============================] - ETA: 0s - loss: 0.5358 - accuracy: 0.6023"
     ]
    },
    {
     "name": "stderr",
     "output_type": "stream",
     "text": [
      "2021-12-10 14:24:03.908905: I tensorflow/core/grappler/optimizers/custom_graph_optimizer_registry.cc:112] Plugin optimizer for device_type GPU is enabled.\n"
     ]
    },
    {
     "name": "stdout",
     "output_type": "stream",
     "text": [
      "262/262 [==============================] - 5s 15ms/step - loss: 0.5358 - accuracy: 0.6023 - val_loss: 0.4790 - val_accuracy: 0.6151\n",
      "Epoch 2/20\n",
      "262/262 [==============================] - 3s 13ms/step - loss: 0.3533 - accuracy: 0.6236 - val_loss: 0.3688 - val_accuracy: 0.6084\n",
      "Epoch 3/20\n",
      "262/262 [==============================] - 3s 13ms/step - loss: 0.1569 - accuracy: 0.6420 - val_loss: 0.2480 - val_accuracy: 0.6261\n",
      "Epoch 4/20\n",
      "262/262 [==============================] - 3s 13ms/step - loss: -0.1778 - accuracy: 0.6501 - val_loss: 0.1083 - val_accuracy: 0.6447\n",
      "Epoch 5/20\n",
      "262/262 [==============================] - 3s 13ms/step - loss: -0.8081 - accuracy: 0.6666 - val_loss: -0.1054 - val_accuracy: 0.6480\n",
      "Epoch 6/20\n",
      "262/262 [==============================] - 3s 13ms/step - loss: -2.0426 - accuracy: 0.6750 - val_loss: -0.4193 - val_accuracy: 0.5903\n",
      "Epoch 7/20\n",
      "262/262 [==============================] - 3s 13ms/step - loss: -4.4595 - accuracy: 0.6749 - val_loss: -0.9020 - val_accuracy: 0.6289\n",
      "Epoch 8/20\n",
      "262/262 [==============================] - 3s 13ms/step - loss: -8.8985 - accuracy: 0.6818 - val_loss: -1.6527 - val_accuracy: 0.5798\n",
      "Epoch 9/20\n",
      "262/262 [==============================] - 4s 13ms/step - loss: -16.1450 - accuracy: 0.6787 - val_loss: -2.4751 - val_accuracy: 0.6328\n",
      "Epoch 10/20\n",
      "262/262 [==============================] - 4s 14ms/step - loss: -27.2034 - accuracy: 0.6853 - val_loss: -3.9390 - val_accuracy: 0.6203\n",
      "Epoch 11/20\n",
      "262/262 [==============================] - 4s 14ms/step - loss: -42.9205 - accuracy: 0.6948 - val_loss: -6.0326 - val_accuracy: 0.5993\n",
      "Epoch 12/20\n",
      "262/262 [==============================] - 4s 14ms/step - loss: -64.0224 - accuracy: 0.6948 - val_loss: -8.0139 - val_accuracy: 0.5788\n",
      "Epoch 13/20\n",
      "262/262 [==============================] - 4s 14ms/step - loss: -90.9172 - accuracy: 0.6961 - val_loss: -10.3655 - val_accuracy: 0.5688\n",
      "Epoch 14/20\n",
      "262/262 [==============================] - 4s 14ms/step - loss: -124.2596 - accuracy: 0.6941 - val_loss: -14.0630 - val_accuracy: 0.5850\n",
      "Epoch 15/20\n",
      "262/262 [==============================] - 4s 14ms/step - loss: -164.0834 - accuracy: 0.7003 - val_loss: -17.3136 - val_accuracy: 0.5635\n",
      "Epoch 16/20\n",
      "262/262 [==============================] - 4s 14ms/step - loss: -210.7150 - accuracy: 0.6961 - val_loss: -21.9358 - val_accuracy: 0.5821\n",
      "Epoch 17/20\n",
      "262/262 [==============================] - 4s 14ms/step - loss: -264.9785 - accuracy: 0.6977 - val_loss: -26.8536 - val_accuracy: 0.5826\n",
      "Epoch 18/20\n",
      "262/262 [==============================] - 4s 14ms/step - loss: -326.6892 - accuracy: 0.7027 - val_loss: -29.0140 - val_accuracy: 0.5554\n",
      "Epoch 19/20\n",
      "262/262 [==============================] - 4s 14ms/step - loss: -395.4027 - accuracy: 0.6986 - val_loss: -35.8698 - val_accuracy: 0.5664\n",
      "Epoch 20/20\n",
      "262/262 [==============================] - 4s 14ms/step - loss: -471.4549 - accuracy: 0.6961 - val_loss: -42.1760 - val_accuracy: 0.5669\n",
      "CPU times: user 54.2 s, sys: 28.4 s, total: 1min 22s\n",
      "Wall time: 1min 12s\n"
     ]
    }
   ],
   "source": [
    "%%time\n",
    "# ~1 minute\n",
    "# X_train = np.asarray(X_train).astype('float32')\n",
    "# X_test = np.asarray(X_test).astype('float32')\n",
    "\n",
    "history = model.fit(X_train,\n",
    "                    y_train,\n",
    "                    epochs=20,\n",
    "                    batch_size=32,\n",
    "                    validation_data=(X_test, y_test),\n",
    "                    verbose=1)"
   ]
  },
  {
   "cell_type": "code",
   "execution_count": null,
   "id": "d21bb398-8847-45e3-a215-d0803ba80117",
   "metadata": {},
   "outputs": [],
   "source": []
  }
 ],
 "metadata": {
  "kernelspec": {
   "display_name": "Python 3 (ipykernel)",
   "language": "python",
   "name": "python3"
  },
  "language_info": {
   "codemirror_mode": {
    "name": "ipython",
    "version": 3
   },
   "file_extension": ".py",
   "mimetype": "text/x-python",
   "name": "python",
   "nbconvert_exporter": "python",
   "pygments_lexer": "ipython3",
   "version": "3.8.12"
  }
 },
 "nbformat": 4,
 "nbformat_minor": 5
}
